{
 "cells": [
  {
   "cell_type": "code",
   "execution_count": 1,
   "metadata": {
    "collapsed": true
   },
   "outputs": [],
   "source": [
    "import csv\n",
    "import matplotlib\n",
    "import matplotlib.pyplot as plt\n",
    "import numpy as np"
   ]
  },
  {
   "cell_type": "code",
   "execution_count": 2,
   "metadata": {
    "collapsed": true
   },
   "outputs": [],
   "source": [
    "filename = \"data/5 - Scenario SA3/xmeas10_001_data_1.csv\"\n",
    "columnIndex = 8"
   ]
  },
  {
   "cell_type": "code",
   "execution_count": 3,
   "metadata": {
    "scrolled": true
   },
   "outputs": [
    {
     "name": "stdout",
     "output_type": "stream",
     "text": [
      "Total no. of rows: 4801\n",
      "41\n"
     ]
    }
   ],
   "source": [
    "rows = []\n",
    "with open(filename, 'r') as csvfile:\n",
    "    csvreader = csv.reader(csvfile) \n",
    "    for row in csvreader: \n",
    "        rows.append(row) \n",
    "print(\"Total no. of rows: %d\"%(csvreader.line_num)) \n",
    "print(len(rows[0]))\n",
    "train = np.array((500, 41))\n",
    "thresholdData = np.array((3500, 41))\n",
    "test = np.array((800, 41))\n",
    "allData = np.array((4800,41))\n",
    "train = np.array(rows[:500])\n",
    "thresholdData = np.array(rows[500:4000])\n",
    "test = np.array(rows[4000:4800])    \n",
    "allData=np.array(rows[:-1])"
   ]
  },
  {
   "cell_type": "code",
   "execution_count": 4,
   "metadata": {},
   "outputs": [
    {
     "name": "stdout",
     "output_type": "stream",
     "text": [
      "(500, 41)\n",
      "(3500, 41)\n",
      "(800, 41)\n",
      "(4800, 41)\n"
     ]
    }
   ],
   "source": [
    "print(train.shape)\n",
    "print(thresholdData.shape)\n",
    "print(test.shape)\n",
    "print(allData.shape)"
   ]
  },
  {
   "cell_type": "markdown",
   "metadata": {},
   "source": [
    "# Training phase"
   ]
  },
  {
   "cell_type": "code",
   "execution_count": 5,
   "metadata": {},
   "outputs": [
    {
     "name": "stdout",
     "output_type": "stream",
     "text": [
      "(250, 251)\n"
     ]
    }
   ],
   "source": [
    "n = 500 \n",
    "l = 250\n",
    "k = n-l+1\n",
    "X = np.zeros((l,k))   # Trajectory matrix\n",
    "sensorReadings = np.transpose(train)[columnIndex] # taking first 500 sensor readings to get U\n",
    "trainSensorReadings = sensorReadings\n",
    "print(X.shape)\n",
    "for i in range(l):\n",
    "    X[i]=sensorReadings[i:i+k]"
   ]
  },
  {
   "cell_type": "code",
   "execution_count": 6,
   "metadata": {},
   "outputs": [
    {
     "name": "stdout",
     "output_type": "stream",
     "text": [
      "(250,)\n"
     ]
    }
   ],
   "source": [
    "meanX = np.mean(X,axis=1) \n",
    "print(meanX.shape)"
   ]
  },
  {
   "cell_type": "code",
   "execution_count": 7,
   "metadata": {},
   "outputs": [],
   "source": [
    "# SVD for trajectory matrix\n",
    "U, S, V  = np.linalg.svd(X, full_matrices=True)"
   ]
  },
  {
   "cell_type": "code",
   "execution_count": 8,
   "metadata": {
    "scrolled": true
   },
   "outputs": [
    {
     "name": "stdout",
     "output_type": "stream",
     "text": [
      "(250, 250)\n",
      "(250,)\n",
      "[3.07865256e+04 3.89869357e-01 3.87796723e-01 3.67568800e-01\n",
      " 3.66056529e-01 3.56326492e-01 3.55923457e-01 3.46654972e-01\n",
      " 3.44958836e-01 3.44462382e-01 3.43415041e-01 3.37094718e-01\n",
      " 3.35835505e-01 3.34995149e-01 3.30253792e-01 3.27464821e-01\n",
      " 3.26401690e-01 3.22483560e-01 3.19980969e-01 3.14179070e-01\n",
      " 3.13710791e-01 3.10659422e-01 3.08280846e-01 3.01776047e-01\n",
      " 3.00139955e-01 2.95405349e-01 2.95185905e-01 2.79626410e-01\n",
      " 2.77073396e-01 2.71378548e-01 2.70782662e-01 2.69211874e-01\n",
      " 2.67145479e-01 2.62030806e-01 2.60626205e-01 2.60105631e-01\n",
      " 2.59277788e-01 2.50206373e-01 2.49215991e-01 2.44736249e-01\n",
      " 2.42757804e-01 2.42061482e-01 2.41919848e-01 2.39094505e-01\n",
      " 2.38216028e-01 2.35988483e-01 2.34834774e-01 2.34216926e-01\n",
      " 2.33996621e-01 2.30775624e-01 2.30301413e-01 2.28792647e-01\n",
      " 2.28302166e-01 2.21224923e-01 2.20927115e-01 2.19845485e-01\n",
      " 2.19823029e-01 2.16024636e-01 2.12883463e-01 2.12724347e-01\n",
      " 2.11684825e-01 2.11446269e-01 2.10027423e-01 2.09798496e-01\n",
      " 2.08899828e-01 2.05362332e-01 2.05001078e-01 2.04307911e-01\n",
      " 2.03950753e-01 2.03434915e-01 2.03014475e-01 2.02577794e-01\n",
      " 2.01784717e-01 2.01397712e-01 2.00025151e-01 1.99096411e-01\n",
      " 1.99071880e-01 1.97432990e-01 1.96572770e-01 1.95695748e-01\n",
      " 1.94981427e-01 1.94306231e-01 1.94029846e-01 1.92959696e-01\n",
      " 1.92348960e-01 1.90729197e-01 1.89641503e-01 1.88548258e-01\n",
      " 1.88159255e-01 1.85255914e-01 1.85094418e-01 1.84039986e-01\n",
      " 1.83806706e-01 1.83568815e-01 1.82676194e-01 1.81158777e-01\n",
      " 1.80628205e-01 1.78880224e-01 1.78617095e-01 1.77812590e-01\n",
      " 1.75433241e-01 1.74359801e-01 1.73324785e-01 1.72225035e-01\n",
      " 1.71253046e-01 1.69470547e-01 1.69206707e-01 1.68870548e-01\n",
      " 1.68729148e-01 1.67097094e-01 1.65689847e-01 1.65660958e-01\n",
      " 1.64443095e-01 1.61335544e-01 1.60936815e-01 1.60207349e-01\n",
      " 1.59889832e-01 1.56480781e-01 1.56078749e-01 1.53373871e-01\n",
      " 1.53071957e-01 1.52362429e-01 1.52320119e-01 1.51960410e-01\n",
      " 1.50728132e-01 1.50113987e-01 1.49869020e-01 1.48980947e-01\n",
      " 1.48764381e-01 1.48662503e-01 1.48475133e-01 1.48137276e-01\n",
      " 1.47432904e-01 1.47166050e-01 1.45612197e-01 1.44700341e-01\n",
      " 1.44471983e-01 1.43612307e-01 1.42619553e-01 1.39943005e-01\n",
      " 1.39557566e-01 1.38321555e-01 1.37159417e-01 1.36468328e-01\n",
      " 1.35881977e-01 1.35531737e-01 1.34147464e-01 1.32032171e-01\n",
      " 1.31427087e-01 1.29227958e-01 1.28784678e-01 1.26867619e-01\n",
      " 1.23926753e-01 1.22859846e-01 1.22355894e-01 1.21834350e-01\n",
      " 1.21531175e-01 1.20230828e-01 1.19586372e-01 1.18404843e-01\n",
      " 1.16083591e-01 1.14711928e-01 1.14180532e-01 1.13228053e-01\n",
      " 1.10745296e-01 1.10341116e-01 1.09381533e-01 1.08761783e-01\n",
      " 1.08034069e-01 1.07449982e-01 1.06368279e-01 1.05838874e-01\n",
      " 1.05437203e-01 1.05021291e-01 1.04025247e-01 1.03602274e-01\n",
      " 1.03122727e-01 1.02766134e-01 1.02368166e-01 1.01171813e-01\n",
      " 9.94210145e-02 9.83848823e-02 9.81692838e-02 9.76436909e-02\n",
      " 9.70259814e-02 9.67907205e-02 9.61446621e-02 9.55092277e-02\n",
      " 9.35879149e-02 9.23309901e-02 9.04855626e-02 8.87720403e-02\n",
      " 8.81993414e-02 8.55302901e-02 8.19021017e-02 8.05267956e-02\n",
      " 7.92745912e-02 7.89760532e-02 7.55405007e-02 7.34437160e-02\n",
      " 7.19594854e-02 7.14697846e-02 7.04552981e-02 6.88260457e-02\n",
      " 6.84261964e-02 6.75294393e-02 6.71043956e-02 6.61564062e-02\n",
      " 6.52913025e-02 6.29605309e-02 6.21922039e-02 6.04593330e-02\n",
      " 5.93221690e-02 5.58265316e-02 5.44326800e-02 5.41679719e-02\n",
      " 5.27315909e-02 5.21569737e-02 4.81586230e-02 4.77288940e-02\n",
      " 4.56752369e-02 4.47234985e-02 4.36551571e-02 4.28261633e-02\n",
      " 4.00732150e-02 3.76760138e-02 3.71817008e-02 3.70218279e-02\n",
      " 3.60117993e-02 3.51864630e-02 3.39420854e-02 3.24364882e-02\n",
      " 3.09851477e-02 3.01866127e-02 2.50290873e-02 2.33640963e-02\n",
      " 2.11489785e-02 1.99186667e-02 1.93558251e-02 1.87851273e-02\n",
      " 1.72951700e-02 1.69206738e-02 1.61129041e-02 1.27241842e-02\n",
      " 1.07976195e-02 1.06998786e-02 1.01289453e-02 5.06714232e-03\n",
      " 2.84900765e-03 1.72312658e-03]\n"
     ]
    }
   ],
   "source": [
    "print(U.shape)\n",
    "print(S.shape)\n",
    "print(S)"
   ]
  },
  {
   "cell_type": "code",
   "execution_count": 9,
   "metadata": {},
   "outputs": [],
   "source": [
    "#choose r=1 \n",
    "newU = U[:,0:1]"
   ]
  },
  {
   "cell_type": "code",
   "execution_count": 10,
   "metadata": {},
   "outputs": [
    {
     "name": "stdout",
     "output_type": "stream",
     "text": [
      "(250, 1)\n"
     ]
    }
   ],
   "source": [
    "print(newU.shape)"
   ]
  },
  {
   "cell_type": "markdown",
   "metadata": {},
   "source": [
    "# Determining theta (threshold)"
   ]
  },
  {
   "cell_type": "code",
   "execution_count": 11,
   "metadata": {},
   "outputs": [
    {
     "name": "stdout",
     "output_type": "stream",
     "text": [
      "(250, 3251)\n"
     ]
    }
   ],
   "source": [
    "n = 3500\n",
    "k = n-l+1\n",
    "X = np.zeros((l,k))\n",
    "sensorReadings = np.transpose(thresholdData)[columnIndex]\n",
    "thresholdSensorReadings = sensorReadings\n",
    "# print(len(sensorReadings))\n",
    "print(X.shape)\n",
    "for i in range(l):\n",
    "    X[i]=sensorReadings[i:i+k]\n"
   ]
  },
  {
   "cell_type": "code",
   "execution_count": 12,
   "metadata": {},
   "outputs": [
    {
     "name": "stdout",
     "output_type": "stream",
     "text": [
      "[-1943.2282649]\n"
     ]
    }
   ],
   "source": [
    "projectedCentre = np.dot(newU.T,meanX)  #finding projection for meanX\n",
    "print(projectedCentre)"
   ]
  },
  {
   "cell_type": "code",
   "execution_count": 13,
   "metadata": {},
   "outputs": [],
   "source": [
    "departureScores=np.zeros((k,1)) # departure scores for lag vectors\n",
    "for i in range(k):\n",
    "    x_i=np.array([X[j][i] for j in range(l)])\n",
    "    departureScores[i] = np.dot(projectedCentre - np.dot(newU.T,x_i),projectedCentre - np.dot(newU.T,x_i))"
   ]
  },
  {
   "cell_type": "code",
   "execution_count": 14,
   "metadata": {},
   "outputs": [
    {
     "name": "stdout",
     "output_type": "stream",
     "text": [
      "(3251, 1)\n"
     ]
    }
   ],
   "source": [
    "print(departureScores.shape)"
   ]
  },
  {
   "cell_type": "code",
   "execution_count": 15,
   "metadata": {},
   "outputs": [
    {
     "name": "stdout",
     "output_type": "stream",
     "text": [
      "[0.00123945]\n"
     ]
    }
   ],
   "source": [
    "print(max(departureScores))"
   ]
  },
  {
   "cell_type": "code",
   "execution_count": 16,
   "metadata": {
    "collapsed": true
   },
   "outputs": [],
   "source": [
    "threshold = max(departureScores) + 0.0001 # setting threshold as max of departure score + small constant"
   ]
  },
  {
   "cell_type": "markdown",
   "metadata": {},
   "source": [
    "# Testing phase"
   ]
  },
  {
   "cell_type": "code",
   "execution_count": 17,
   "metadata": {},
   "outputs": [
    {
     "name": "stdout",
     "output_type": "stream",
     "text": [
      "800\n",
      "(250, 551)\n"
     ]
    }
   ],
   "source": [
    "n = 800\n",
    "k = n-l+1\n",
    "X = np.zeros((l,k))\n",
    "testSensorReadings = np.transpose(test)[columnIndex]\n",
    "print(len(testSensorReadings))\n",
    "print(X.shape)\n",
    "for i in range(l):\n",
    "    X[i] = testSensorReadings[i:i+k]"
   ]
  },
  {
   "cell_type": "code",
   "execution_count": 18,
   "metadata": {},
   "outputs": [
    {
     "name": "stdout",
     "output_type": "stream",
     "text": [
      "(551, 1)\n"
     ]
    }
   ],
   "source": [
    "testDepartureScores = np.zeros((k,1))\n",
    "for i in range(k):\n",
    "    x_i = np.array([X[j][i] for j in range(l)])\n",
    "    testDepartureScores[i] = np.dot(projectedCentre - np.dot(newU.T,x_i), projectedCentre - np.dot(newU.T,x_i))\n",
    "print(testDepartureScores.shape)"
   ]
  },
  {
   "cell_type": "markdown",
   "metadata": {},
   "source": [
    "# Plot of departure scores"
   ]
  },
  {
   "cell_type": "code",
   "execution_count": 19,
   "metadata": {},
   "outputs": [
    {
     "name": "stdout",
     "output_type": "stream",
     "text": [
      "(250, 4551)\n",
      "(4551, 1)\n"
     ]
    }
   ],
   "source": [
    "n = 4800\n",
    "k = n-l+1\n",
    "X = np.zeros((l,k))\n",
    "testSensorReadings = np.transpose(allData)[columnIndex]\n",
    "print(X.shape)\n",
    "for i in range(l):\n",
    "    X[i] = testSensorReadings[i:i+k]\n",
    "finalDepartureScores = np.zeros((k,1))\n",
    "for i in range(k):\n",
    "    x_i = np.array([X[j][i] for j in range(l)])\n",
    "    finalDepartureScores[i] = np.dot(projectedCentre - np.dot(newU.T,x_i), projectedCentre - np.dot(newU.T,x_i))\n",
    "print(finalDepartureScores.shape)"
   ]
  },
  {
   "cell_type": "code",
   "execution_count": 20,
   "metadata": {},
   "outputs": [
    {
     "data": {
      "image/png": "[encoded data removed]",
      "text/plain": [
       "<matplotlib.figure.Figure at 0x7fcabe320da0>"
      ]
     },
     "metadata": {},
     "output_type": "display_data"
    }
   ],
   "source": [
    "fig = plt.figure(figsize=(15,5))\n",
    "x=[i for i in range(250,4801)]\n",
    "plt.plot(x,finalDepartureScores , 'b-', linewidth=1, label='Departure score')\n",
    "locs = [500,1000,1500,2000,2500,3000,3500,4000,4500,5000]\n",
    "xlabels = [locs[i]/100 for i in range(len(locs))]\n",
    "plt.xticks(locs, xlabels)\n",
    "plt.xlabel('Time(Hours)')\n",
    "plt.ylabel('Departure Score')\n",
    "plt.margins(x=0)\n",
    "plt.hlines(threshold, 0, 5000, linestyles='dashed', label='Alarm Threshold')\n",
    "plt.vlines(4000, 0,max(testDepartureScores) , linestyles='dashed', colors='red', label='Start of testing phase')\n",
    "plt.axvspan(4000, 5000, alpha=0.5, color='red')\n",
    "plt.title('Departure score for XMEAS(9) in SA(3)')\n",
    "plt.legend()\n",
    "plt.show()"
   ]
  },
  {
   "cell_type": "markdown",
   "metadata": {},
   "source": [
    "# Plot of all readings for XMEAS(10) sensor"
   ]
  },
  {
   "cell_type": "code",
   "execution_count": 21,
   "metadata": {},
   "outputs": [
    {
     "data": {
      "image/png": "[encoded data removed]",
      "text/plain": [
       "<matplotlib.figure.Figure at 0x7fcabd8159e8>"
      ]
     },
     "metadata": {},
     "output_type": "display_data"
    }
   ],
   "source": [
    "x1 = [i for i in range(500)]\n",
    "x2 = [i for i in range(500,4000)]\n",
    "x3 = [i for i in range(4000,4800)]\n",
    "fig = plt.figure(figsize=(15,5))\n",
    "sensorReadings = np.transpose(allData)[columnIndex]\n",
    "plt.plot(x1, sensorReadings[:500], 'b-',label='Training')\n",
    "plt.plot(x2, sensorReadings[500:4000],'k-' , label = 'Threshold finding')\n",
    "plt.plot(x3, sensorReadings[4000:4800],'r-',label = 'Detection')\n",
    "locs = [500,1000,1500,2000,2500,3000,3500,4000,4500,5000]\n",
    "xlabels = [locs[i]/100 for i in range(len(locs))]\n",
    "plt.xticks(locs, xlabels)\n",
    "plt.xlabel('Time(Hours)')\n",
    "plt.ylabel('XMEAS (9)')\n",
    "plt.title('Sensor readings for XMEAS(9) in SA(3)')\n",
    "plt.legend()\n",
    "plt.show()"
   ]
  },
  {
   "cell_type": "code",
   "execution_count": null,
   "metadata": {
    "collapsed": true
   },
   "outputs": [],
   "source": []
  }
 ],
 "metadata": {
  "kernelspec": {
   "display_name": "Python 3",
   "language": "python",
   "name": "python3"
  },
  "language_info": {
   "codemirror_mode": {
    "name": "ipython",
    "version": 3
   },
   "file_extension": ".py",
   "mimetype": "text/x-python",
   "name": "python",
   "nbconvert_exporter": "python",
   "pygments_lexer": "ipython3",
   "version": "3.6.5"
  }
 },
 "nbformat": 4,
 "nbformat_minor": 2
}
