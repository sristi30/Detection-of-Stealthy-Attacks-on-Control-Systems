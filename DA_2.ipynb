{
 "cells": [
  {
   "cell_type": "code",
   "execution_count": 1,
   "metadata": {
    "collapsed": true
   },
   "outputs": [],
   "source": [
    "import csv\n",
    "import matplotlib\n",
    "import matplotlib.pyplot as plt\n",
    "import numpy as np"
   ]
  },
  {
   "cell_type": "code",
   "execution_count": 2,
   "metadata": {
    "collapsed": true
   },
   "outputs": [],
   "source": [
    "filename = \"data/2 - Scenario DA2/xmeas7_zero_data_1.csv\"\n",
    "columnIndex = 4"
   ]
  },
  {
   "cell_type": "code",
   "execution_count": 3,
   "metadata": {
    "scrolled": true
   },
   "outputs": [
    {
     "name": "stdout",
     "output_type": "stream",
     "text": [
      "Total no. of rows: 4801\n",
      "41\n"
     ]
    }
   ],
   "source": [
    "rows = []\n",
    "with open(filename, 'r') as csvfile:\n",
    "    csvreader = csv.reader(csvfile) \n",
    "    for row in csvreader: \n",
    "        rows.append(row) \n",
    "print(\"Total no. of rows: %d\"%(csvreader.line_num)) \n",
    "print(len(rows[0]))\n",
    "train = np.array((500, 41))\n",
    "thresholdData = np.array((3500, 41))\n",
    "test = np.array((800, 41))\n",
    "allData = np.array((4800,41))\n",
    "train = np.array(rows[:500])\n",
    "thresholdData = np.array(rows[500:4000])\n",
    "test = np.array(rows[4000:4800])    \n",
    "allData=np.array(rows[:-1])"
   ]
  },
  {
   "cell_type": "code",
   "execution_count": 4,
   "metadata": {},
   "outputs": [
    {
     "name": "stdout",
     "output_type": "stream",
     "text": [
      "(500, 41)\n",
      "(3500, 41)\n",
      "(800, 41)\n",
      "(4800, 41)\n"
     ]
    }
   ],
   "source": [
    "print(train.shape)\n",
    "print(thresholdData.shape)\n",
    "print(test.shape)\n",
    "print(allData.shape)"
   ]
  },
  {
   "cell_type": "markdown",
   "metadata": {},
   "source": [
    "# Training phase"
   ]
  },
  {
   "cell_type": "code",
   "execution_count": 5,
   "metadata": {},
   "outputs": [
    {
     "name": "stdout",
     "output_type": "stream",
     "text": [
      "(250, 251)\n"
     ]
    }
   ],
   "source": [
    "n = 500 \n",
    "l = 250\n",
    "k = n-l+1\n",
    "X = np.zeros((l,k))   # Trajectory matrix\n",
    "sensorReadings = np.transpose(train)[columnIndex] # taking first 500 sensor readings to get U\n",
    "trainSensorReadings = sensorReadings\n",
    "print(X.shape)\n",
    "for i in range(l):\n",
    "    X[i]=sensorReadings[i:i+k]"
   ]
  },
  {
   "cell_type": "code",
   "execution_count": 6,
   "metadata": {},
   "outputs": [
    {
     "name": "stdout",
     "output_type": "stream",
     "text": [
      "(250,)\n"
     ]
    }
   ],
   "source": [
    "meanX = np.mean(X,axis=1) \n",
    "print(meanX.shape)"
   ]
  },
  {
   "cell_type": "code",
   "execution_count": 7,
   "metadata": {},
   "outputs": [],
   "source": [
    "# SVD for trajectory matrix\n",
    "U, S, V  = np.linalg.svd(X, full_matrices=True)"
   ]
  },
  {
   "cell_type": "code",
   "execution_count": 8,
   "metadata": {
    "scrolled": true
   },
   "outputs": [
    {
     "name": "stdout",
     "output_type": "stream",
     "text": [
      "(250, 250)\n",
      "(250,)\n",
      "[8.06435902e+03 6.53224716e+00 6.52622385e+00 6.46143370e+00\n",
      " 6.44924645e+00 6.21793218e+00 6.20497158e+00 5.95425910e+00\n",
      " 5.92603811e+00 5.58793110e+00 5.54779874e+00 5.53049094e+00\n",
      " 5.47748584e+00 5.46515157e+00 5.43179983e+00 5.42184994e+00\n",
      " 5.37393134e+00 5.37221909e+00 5.36632667e+00 5.35333691e+00\n",
      " 5.31599961e+00 5.30618270e+00 5.30036816e+00 5.29191417e+00\n",
      " 5.28350527e+00 5.28106324e+00 5.27381004e+00 5.25961274e+00\n",
      " 5.22436531e+00 5.16029493e+00 5.09248321e+00 5.07492426e+00\n",
      " 5.00836720e+00 4.78294920e+00 4.74329190e+00 4.73047003e+00\n",
      " 4.68556099e+00 4.62151342e+00 4.61009413e+00 4.60441865e+00\n",
      " 4.59054115e+00 4.58286222e+00 4.57856843e+00 4.56798001e+00\n",
      " 4.53364408e+00 4.49707744e+00 4.49110723e+00 4.48346374e+00\n",
      " 4.44048671e+00 4.32042334e+00 4.30740315e+00 4.27443463e+00\n",
      " 4.27266666e+00 4.25995704e+00 4.23954096e+00 4.20459163e+00\n",
      " 4.19303124e+00 4.16887121e+00 4.14524425e+00 4.10121368e+00\n",
      " 4.09728707e+00 4.06564094e+00 4.05620792e+00 4.04211069e+00\n",
      " 4.03823864e+00 4.00835091e+00 4.00101834e+00 3.94133934e+00\n",
      " 3.89169224e+00 3.82879629e+00 3.82236179e+00 3.80233097e+00\n",
      " 3.79406822e+00 3.78520981e+00 3.77232588e+00 3.71459645e+00\n",
      " 3.70304369e+00 3.70193730e+00 3.68896221e+00 3.67158889e+00\n",
      " 3.64523010e+00 3.57751075e+00 3.54090682e+00 3.52184937e+00\n",
      " 3.50251499e+00 3.49300057e+00 3.48081935e+00 3.45216521e+00\n",
      " 3.42296832e+00 3.40770211e+00 3.39645726e+00 3.37232099e+00\n",
      " 3.35127855e+00 3.34959584e+00 3.34077572e+00 3.22695960e+00\n",
      " 3.21989572e+00 3.20810166e+00 3.20236646e+00 3.19682095e+00\n",
      " 3.17440876e+00 3.11494172e+00 3.10532977e+00 3.07072563e+00\n",
      " 3.06578126e+00 3.06327310e+00 3.05186886e+00 3.04461721e+00\n",
      " 2.97821785e+00 2.96068015e+00 2.95520919e+00 2.94970784e+00\n",
      " 2.92441255e+00 2.89939810e+00 2.88890007e+00 2.87413004e+00\n",
      " 2.85761561e+00 2.82520436e+00 2.81772329e+00 2.80870789e+00\n",
      " 2.79227639e+00 2.77296025e+00 2.75168827e+00 2.73057366e+00\n",
      " 2.71261488e+00 2.70252777e+00 2.69397996e+00 2.68581720e+00\n",
      " 2.67049258e+00 2.67003900e+00 2.66144908e+00 2.65129971e+00\n",
      " 2.64714981e+00 2.63937109e+00 2.62593122e+00 2.61880480e+00\n",
      " 2.57051161e+00 2.56719749e+00 2.55857040e+00 2.54571977e+00\n",
      " 2.52853079e+00 2.50776832e+00 2.49718004e+00 2.47076906e+00\n",
      " 2.45300331e+00 2.44128528e+00 2.42669029e+00 2.41294939e+00\n",
      " 2.40131483e+00 2.35260490e+00 2.35041095e+00 2.31280697e+00\n",
      " 2.28029622e+00 2.27240202e+00 2.24585044e+00 2.23732081e+00\n",
      " 2.23264198e+00 2.19962653e+00 2.19293329e+00 2.18796760e+00\n",
      " 2.17411324e+00 2.11648593e+00 2.08242245e+00 2.05289987e+00\n",
      " 2.04509938e+00 2.03710069e+00 2.00936272e+00 1.97124838e+00\n",
      " 1.95901245e+00 1.88093986e+00 1.86311564e+00 1.85878559e+00\n",
      " 1.81691783e+00 1.79082961e+00 1.78185317e+00 1.74625013e+00\n",
      " 1.73936941e+00 1.68550217e+00 1.63583698e+00 1.62650578e+00\n",
      " 1.61626293e+00 1.60046646e+00 1.59351445e+00 1.57879605e+00\n",
      " 1.56360469e+00 1.55881838e+00 1.54459468e+00 1.52899050e+00\n",
      " 1.50290407e+00 1.49081559e+00 1.45967901e+00 1.45603946e+00\n",
      " 1.44080104e+00 1.42725148e+00 1.42391627e+00 1.38288487e+00\n",
      " 1.37568931e+00 1.33944337e+00 1.32543678e+00 1.27785055e+00\n",
      " 1.27014362e+00 1.24899600e+00 1.23948173e+00 1.22801902e+00\n",
      " 1.20928151e+00 1.12736737e+00 1.08041754e+00 1.06362699e+00\n",
      " 1.04260070e+00 1.01636263e+00 9.87639554e-01 9.86519371e-01\n",
      " 9.66916592e-01 9.56465748e-01 9.46231793e-01 9.17565261e-01\n",
      " 8.89999595e-01 8.62303799e-01 8.21835501e-01 7.99068743e-01\n",
      " 7.66487721e-01 7.01836878e-01 6.68257853e-01 6.58405596e-01\n",
      " 6.34571426e-01 5.95690435e-01 5.72795882e-01 5.21120952e-01\n",
      " 4.98324312e-01 4.91917389e-01 4.90958417e-01 4.90573427e-01\n",
      " 4.70369067e-01 4.60072445e-01 4.47304361e-01 4.45481035e-01\n",
      " 4.36601206e-01 4.28080118e-01 4.24993751e-01 4.20149071e-01\n",
      " 3.64645443e-01 3.40732706e-01 3.38030479e-01 2.98043654e-01\n",
      " 2.69618610e-01 2.41617619e-01 1.97852262e-01 1.26917869e-01\n",
      " 1.03524894e-01 8.50233007e-02]\n"
     ]
    }
   ],
   "source": [
    "print(U.shape)\n",
    "print(S.shape)\n",
    "print(S)"
   ]
  },
  {
   "cell_type": "code",
   "execution_count": 9,
   "metadata": {},
   "outputs": [],
   "source": [
    "#choose r=1 \n",
    "newU = U[:,0:1]"
   ]
  },
  {
   "cell_type": "code",
   "execution_count": 10,
   "metadata": {},
   "outputs": [
    {
     "name": "stdout",
     "output_type": "stream",
     "text": [
      "(250, 1)\n"
     ]
    }
   ],
   "source": [
    "print(newU.shape)"
   ]
  },
  {
   "cell_type": "markdown",
   "metadata": {},
   "source": [
    "# Determining theta (threshold)"
   ]
  },
  {
   "cell_type": "code",
   "execution_count": 11,
   "metadata": {},
   "outputs": [
    {
     "name": "stdout",
     "output_type": "stream",
     "text": [
      "(250, 3251)\n"
     ]
    }
   ],
   "source": [
    "n = 3500\n",
    "k = n-l+1\n",
    "X = np.zeros((l,k))\n",
    "sensorReadings = np.transpose(thresholdData)[columnIndex]\n",
    "thresholdSensorReadings = sensorReadings\n",
    "# print(len(sensorReadings))\n",
    "print(X.shape)\n",
    "for i in range(l):\n",
    "    X[i]=sensorReadings[i:i+k]\n"
   ]
  },
  {
   "cell_type": "code",
   "execution_count": 12,
   "metadata": {},
   "outputs": [
    {
     "name": "stdout",
     "output_type": "stream",
     "text": [
      "[-509.01781324]\n"
     ]
    }
   ],
   "source": [
    "projectedCentre = np.dot(newU.T,meanX)  #finding projection for meanX\n",
    "print(projectedCentre)"
   ]
  },
  {
   "cell_type": "code",
   "execution_count": 13,
   "metadata": {},
   "outputs": [],
   "source": [
    "departureScores=np.zeros((k,1)) # departure scores for lag vectors\n",
    "for i in range(k):\n",
    "    x_i=np.array([X[j][i] for j in range(l)])\n",
    "    departureScores[i] = np.dot(projectedCentre - np.dot(newU.T,x_i),projectedCentre - np.dot(newU.T,x_i))"
   ]
  },
  {
   "cell_type": "code",
   "execution_count": 14,
   "metadata": {},
   "outputs": [
    {
     "name": "stdout",
     "output_type": "stream",
     "text": [
      "[0.24189112]\n"
     ]
    }
   ],
   "source": [
    "print(max(departureScores))"
   ]
  },
  {
   "cell_type": "code",
   "execution_count": 15,
   "metadata": {
    "collapsed": true
   },
   "outputs": [],
   "source": [
    "threshold = max(departureScores) + 0.02 # setting threshold as max of departure score + small constant"
   ]
  },
  {
   "cell_type": "markdown",
   "metadata": {},
   "source": [
    "# Testing phase"
   ]
  },
  {
   "cell_type": "code",
   "execution_count": 16,
   "metadata": {},
   "outputs": [
    {
     "name": "stdout",
     "output_type": "stream",
     "text": [
      "800\n",
      "(250, 551)\n"
     ]
    }
   ],
   "source": [
    "n = 800\n",
    "k = n-l+1\n",
    "X = np.zeros((l,k))\n",
    "testSensorReadings = np.transpose(test)[columnIndex]\n",
    "print(len(testSensorReadings))\n",
    "print(X.shape)\n",
    "for i in range(l):\n",
    "    X[i] = testSensorReadings[i:i+k]"
   ]
  },
  {
   "cell_type": "code",
   "execution_count": 17,
   "metadata": {},
   "outputs": [
    {
     "name": "stdout",
     "output_type": "stream",
     "text": [
      "(551, 1)\n"
     ]
    }
   ],
   "source": [
    "testDepartureScores = np.zeros((k,1))\n",
    "for i in range(k):\n",
    "    x_i = np.array([X[j][i] for j in range(l)])\n",
    "    testDepartureScores[i] = np.dot(projectedCentre - np.dot(newU.T,x_i), projectedCentre - np.dot(newU.T,x_i))\n",
    "print(testDepartureScores.shape)"
   ]
  },
  {
   "cell_type": "markdown",
   "metadata": {},
   "source": [
    "# Plot of departure scores"
   ]
  },
  {
   "cell_type": "code",
   "execution_count": 18,
   "metadata": {},
   "outputs": [
    {
     "name": "stdout",
     "output_type": "stream",
     "text": [
      "(250, 4551)\n",
      "(4551, 1)\n"
     ]
    }
   ],
   "source": [
    "n = 4800\n",
    "k = n-l+1\n",
    "X = np.zeros((l,k))\n",
    "testSensorReadings = np.transpose(allData)[columnIndex]\n",
    "print(X.shape)\n",
    "for i in range(l):\n",
    "    X[i] = testSensorReadings[i:i+k]\n",
    "finalDepartureScores = np.zeros((k,1))\n",
    "for i in range(k):\n",
    "    x_i = np.array([X[j][i] for j in range(l)])\n",
    "    finalDepartureScores[i] = np.dot(projectedCentre - np.dot(newU.T,x_i), projectedCentre - np.dot(newU.T,x_i))\n",
    "print(finalDepartureScores.shape)"
   ]
  },
  {
   "cell_type": "code",
   "execution_count": 20,
   "metadata": {},
   "outputs": [
    {
     "data": {
      "image/png": "[encoded data removed]",
      "text/plain": [
       "<matplotlib.figure.Figure at 0x7f88275d85f8>"
      ]
     },
     "metadata": {},
     "output_type": "display_data"
    }
   ],
   "source": [
    "fig = plt.figure(figsize=(15,5))\n",
    "x=[i for i in range(250,4801)]\n",
    "plt.plot(x,finalDepartureScores , 'b-', linewidth=1, label='Departure score')\n",
    "locs = [500,1000,1500,2000,2500,3000,3500,4000,4500,5000]\n",
    "xlabels = [locs[i]/100 for i in range(len(locs))]\n",
    "plt.xticks(locs, xlabels)\n",
    "plt.xlabel('Time(Hours)')\n",
    "plt.ylabel('Departure Score')\n",
    "plt.margins(x=0)\n",
    "plt.hlines(threshold, 0, 5000, linestyles='dashed', label='Alarm Threshold')\n",
    "plt.vlines(4000, 0,max(testDepartureScores) , linestyles='dashed', colors='red', label='Start of testing phase')\n",
    "plt.axvspan(4000, 5000, alpha=0.5, color='red')\n",
    "plt.title('Departure score for XMEAS(5) in DA(2)')\n",
    "plt.legend()\n",
    "plt.show()"
   ]
  },
  {
   "cell_type": "markdown",
   "metadata": {},
   "source": [
    "# Plot of all readings for XMEAS(5) sensor"
   ]
  },
  {
   "cell_type": "code",
   "execution_count": 21,
   "metadata": {},
   "outputs": [
    {
     "data": {
      "image/png": "[encoded data removed]",
      "text/plain": [
       "<matplotlib.figure.Figure at 0x7f882724deb8>"
      ]
     },
     "metadata": {},
     "output_type": "display_data"
    }
   ],
   "source": [
    "x1 = [i for i in range(500)]\n",
    "x2 = [i for i in range(500,4000)]\n",
    "x3 = [i for i in range(4000,4800)]\n",
    "fig = plt.figure(figsize=(15,5))\n",
    "sensorReadings = np.transpose(allData)[columnIndex]\n",
    "plt.plot(x1, sensorReadings[:500], 'b-',label='Training')\n",
    "plt.plot(x2, sensorReadings[500:4000],'k-' , label = 'Threshold finding')\n",
    "plt.plot(x3, sensorReadings[4000:4800],'r-',label = 'Detection')\n",
    "locs = [500,1000,1500,2000,2500,3000,3500,4000,4500,5000]\n",
    "xlabels = [locs[i]/100 for i in range(len(locs))]\n",
    "plt.xticks(locs, xlabels)\n",
    "plt.xlabel('Time(Hours)')\n",
    "plt.ylabel('XMEAS (5)')\n",
    "plt.title('Sensor readings for XMEAS(5) in DA(2)')\n",
    "plt.legend()\n",
    "plt.show()"
   ]
  },
  {
   "cell_type": "code",
   "execution_count": null,
   "metadata": {
    "collapsed": true
   },
   "outputs": [],
   "source": []
  }
 ],
 "metadata": {
  "kernelspec": {
   "display_name": "Python 3",
   "language": "python",
   "name": "python3"
  },
  "language_info": {
   "codemirror_mode": {
    "name": "ipython",
    "version": 3
   },
   "file_extension": ".py",
   "mimetype": "text/x-python",
   "name": "python",
   "nbconvert_exporter": "python",
   "pygments_lexer": "ipython3",
   "version": "3.6.5"
  }
 },
 "nbformat": 4,
 "nbformat_minor": 2
}
