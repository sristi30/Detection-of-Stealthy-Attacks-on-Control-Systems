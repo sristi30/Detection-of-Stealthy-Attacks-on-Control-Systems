{
 "cells": [
  {
   "cell_type": "code",
   "execution_count": 3,
   "metadata": {},
   "outputs": [],
   "source": [
    "import csv\n",
    "import matplotlib\n",
    "import matplotlib.pyplot as plt\n",
    "import numpy as np"
   ]
  },
  {
   "cell_type": "code",
   "execution_count": 4,
   "metadata": {},
   "outputs": [],
   "source": [
    "filename = \"data/1 - Scenario DA1/xmv10_359_data_1.csv\"\n",
    "columnIndex = 14"
   ]
  },
  {
   "cell_type": "code",
   "execution_count": 5,
   "metadata": {
    "scrolled": true
   },
   "outputs": [
    {
     "name": "stdout",
     "output_type": "stream",
     "text": [
      "Total no. of rows: 4801\n",
      "41\n"
     ]
    }
   ],
   "source": [
    "rows = []\n",
    "with open(filename, 'r') as csvfile:\n",
    "    csvreader = csv.reader(csvfile) \n",
    "    for row in csvreader: \n",
    "        rows.append(row) \n",
    "print(\"Total no. of rows: %d\"%(csvreader.line_num)) \n",
    "print(len(rows[0]))\n",
    "train = np.array((500, 41))\n",
    "thresholdData = np.array((4000, 41))\n",
    "test = np.array((800, 41))\n",
    "allData = np.array((4800,41))\n",
    "train = np.array(rows[:500])\n",
    "thresholdData = np.array(rows[:4000])\n",
    "test = np.array(rows[4000:4800])    \n",
    "allData=np.array(rows[:])"
   ]
  },
  {
   "cell_type": "code",
   "execution_count": 4,
   "metadata": {},
   "outputs": [
    {
     "name": "stdout",
     "output_type": "stream",
     "text": [
      "(500, 41)\n",
      "(4000, 41)\n",
      "(800, 41)\n",
      "(4801, 41)\n"
     ]
    }
   ],
   "source": [
    "print(train.shape)\n",
    "print(thresholdData.shape)\n",
    "print(test.shape)\n",
    "print(allData.shape)"
   ]
  },
  {
   "cell_type": "code",
   "execution_count": 5,
   "metadata": {},
   "outputs": [
    {
     "name": "stdout",
     "output_type": "stream",
     "text": [
      "500\n",
      "(250, 251)\n"
     ]
    }
   ],
   "source": [
    "n = 500\n",
    "l = 250\n",
    "k = n-l+1\n",
    "X = np.zeros((l,k))\n",
    "sensorReadings = np.transpose(train)[columnIndex]\n",
    "trainSensorReadings = sensorReadings\n",
    "print(len(sensorReadings))\n",
    "print(X.shape)\n",
    "for i in range(l):\n",
    "    X[i]=sensorReadings[i:i+k]"
   ]
  },
  {
   "cell_type": "code",
   "execution_count": 6,
   "metadata": {},
   "outputs": [
    {
     "name": "stdout",
     "output_type": "stream",
     "text": [
      "[[50.095 48.633 50.497 ... 48.753 49.897 49.146]\n",
      " [48.633 50.497 49.713 ... 49.897 49.146 50.826]\n",
      " [50.497 49.713 49.284 ... 49.146 50.826 48.316]\n",
      " ...\n",
      " [50.06  48.753 49.897 ... 49.038 49.876 50.375]\n",
      " [48.753 49.897 49.146 ... 49.876 50.375 49.533]\n",
      " [49.897 49.146 50.826 ... 50.375 49.533 50.351]]\n"
     ]
    }
   ],
   "source": [
    "print(X)\n",
    "#s = (np.array(X).astype(\"float\"))\n",
    "U, S, V  = np.linalg.svd(X, full_matrices=True)"
   ]
  },
  {
   "cell_type": "code",
   "execution_count": 7,
   "metadata": {
    "scrolled": true
   },
   "outputs": [
    {
     "name": "stdout",
     "output_type": "stream",
     "text": [
      "(250, 250)\n",
      "(250,)\n",
      "[1.25262154e+04 3.16870473e+01 3.15893297e+01 3.00905978e+01\n",
      " 2.99219702e+01 2.99082050e+01 2.96182003e+01 2.94716584e+01\n",
      " 2.93745645e+01 2.92461546e+01 2.92334808e+01 2.84825177e+01\n",
      " 2.82816517e+01 2.82713136e+01 2.81873381e+01 2.80343611e+01\n",
      " 2.79348102e+01 2.76441111e+01 2.73710896e+01 2.72387929e+01\n",
      " 2.70647946e+01 2.69539179e+01 2.60287208e+01 2.58740793e+01\n",
      " 2.57393723e+01 2.55517399e+01 2.54715798e+01 2.54083144e+01\n",
      " 2.52880940e+01 2.52354561e+01 2.50859263e+01 2.49558302e+01\n",
      " 2.47960296e+01 2.47469432e+01 2.46773915e+01 2.45437776e+01\n",
      " 2.43307213e+01 2.42580994e+01 2.42105518e+01 2.38158287e+01\n",
      " 2.33999154e+01 2.33864177e+01 2.33626467e+01 2.28432496e+01\n",
      " 2.28055330e+01 2.25836757e+01 2.23568094e+01 2.23058258e+01\n",
      " 2.22014642e+01 2.21444236e+01 2.21191779e+01 2.20543741e+01\n",
      " 2.20427246e+01 2.19970929e+01 2.19787599e+01 2.15064194e+01\n",
      " 2.14400913e+01 2.09977919e+01 2.07359895e+01 2.06251648e+01\n",
      " 2.06004455e+01 2.04497791e+01 2.02084892e+01 2.01599888e+01\n",
      " 2.00863523e+01 1.99930604e+01 1.99661750e+01 1.99294699e+01\n",
      " 1.97801915e+01 1.95697711e+01 1.95212648e+01 1.94496230e+01\n",
      " 1.92397851e+01 1.91509929e+01 1.91359389e+01 1.91179187e+01\n",
      " 1.90578698e+01 1.90449220e+01 1.90237525e+01 1.89762627e+01\n",
      " 1.89332159e+01 1.88987629e+01 1.87500631e+01 1.86903665e+01\n",
      " 1.86394108e+01 1.84663090e+01 1.84526176e+01 1.82638181e+01\n",
      " 1.82593724e+01 1.82269344e+01 1.81660045e+01 1.81039613e+01\n",
      " 1.80574732e+01 1.79291938e+01 1.78185600e+01 1.76085640e+01\n",
      " 1.73748416e+01 1.71754731e+01 1.70086085e+01 1.66067995e+01\n",
      " 1.65738879e+01 1.65086672e+01 1.63572192e+01 1.62111088e+01\n",
      " 1.61317237e+01 1.60060957e+01 1.59366586e+01 1.58418897e+01\n",
      " 1.56926924e+01 1.56310118e+01 1.56139124e+01 1.55436695e+01\n",
      " 1.54636414e+01 1.53976322e+01 1.53398300e+01 1.52615290e+01\n",
      " 1.51956746e+01 1.51252906e+01 1.50752041e+01 1.48482335e+01\n",
      " 1.48323785e+01 1.47075700e+01 1.46232525e+01 1.45695246e+01\n",
      " 1.45440829e+01 1.43204093e+01 1.42484706e+01 1.41487070e+01\n",
      " 1.40659075e+01 1.40475460e+01 1.38146052e+01 1.37936885e+01\n",
      " 1.37360731e+01 1.35801781e+01 1.34351782e+01 1.33098762e+01\n",
      " 1.32176932e+01 1.31964070e+01 1.31163900e+01 1.29158136e+01\n",
      " 1.28502838e+01 1.28388814e+01 1.28110480e+01 1.27744679e+01\n",
      " 1.25881590e+01 1.25022849e+01 1.24530420e+01 1.22230283e+01\n",
      " 1.21719456e+01 1.21535872e+01 1.19273904e+01 1.17895647e+01\n",
      " 1.16850280e+01 1.15359464e+01 1.14050632e+01 1.11167004e+01\n",
      " 1.10382893e+01 1.09051813e+01 1.08356131e+01 1.05492569e+01\n",
      " 1.04566727e+01 1.04176527e+01 1.04005025e+01 1.01926585e+01\n",
      " 1.01891108e+01 1.00996083e+01 1.00021236e+01 9.81222110e+00\n",
      " 9.73982482e+00 9.53992664e+00 9.44449238e+00 9.33521776e+00\n",
      " 9.32432955e+00 9.30170219e+00 9.24847104e+00 9.23665826e+00\n",
      " 9.04183330e+00 8.88937625e+00 8.85476007e+00 8.82509325e+00\n",
      " 8.65234717e+00 8.46371248e+00 8.35676125e+00 8.33856713e+00\n",
      " 8.00359080e+00 7.95858674e+00 7.90135455e+00 7.71256285e+00\n",
      " 7.62389833e+00 7.60590167e+00 7.52893928e+00 7.45581912e+00\n",
      " 7.33381526e+00 7.21374140e+00 7.04015960e+00 7.00191834e+00\n",
      " 6.94021270e+00 6.75062753e+00 6.72280896e+00 6.64207156e+00\n",
      " 6.51684933e+00 6.46589144e+00 6.32072776e+00 6.22542188e+00\n",
      " 6.19102277e+00 6.18299160e+00 6.14509980e+00 6.09391691e+00\n",
      " 5.93014360e+00 5.85630024e+00 5.66724764e+00 5.59175510e+00\n",
      " 5.53655673e+00 5.47693925e+00 5.45296675e+00 5.40094054e+00\n",
      " 5.35820792e+00 5.31762269e+00 5.07871632e+00 4.88783797e+00\n",
      " 4.69076553e+00 4.67373623e+00 4.58536689e+00 4.52908921e+00\n",
      " 4.35895198e+00 4.23182216e+00 4.04876860e+00 3.88773125e+00\n",
      " 3.79177158e+00 3.70875898e+00 3.54193552e+00 3.06615090e+00\n",
      " 2.95229401e+00 2.90749720e+00 2.70207618e+00 2.52825781e+00\n",
      " 2.50675709e+00 2.37309067e+00 2.18338116e+00 2.15709686e+00\n",
      " 2.04849863e+00 1.95791670e+00 1.71044121e+00 1.60431784e+00\n",
      " 1.46134865e+00 1.31979023e+00 1.28836545e+00 1.01400570e+00\n",
      " 8.80535394e-01 4.49299661e-01]\n"
     ]
    }
   ],
   "source": [
    "print(U.shape)\n",
    "print(S.shape)\n",
    "print(S)"
   ]
  },
  {
   "cell_type": "code",
   "execution_count": 8,
   "metadata": {
    "scrolled": false
   },
   "outputs": [
    {
     "data": {
      "image/png": "[encoded data removed]",
      "text/plain": [
       "<matplotlib.figure.Figure at 0x7f91fb87f390>"
      ]
     },
     "metadata": {},
     "output_type": "display_data"
    }
   ],
   "source": [
    "eigvals = S**2 / np.sum(S**2)\n",
    "# print(len(eigvals))\n",
    "# print(eigvals[1]>eigvals[2])\n",
    "num_vars = 250\n",
    "num_obs = 250\n",
    "fig = plt.figure(figsize=(8,5))\n",
    "sing_vals = np.arange(num_vars) + 1\n",
    "plt.plot(sing_vals, eigvals, 'ro-', linewidth=2)\n",
    "plt.title('Scree Plot')\n",
    "plt.xlabel('Principal Component')\n",
    "plt.ylabel('Eigenvalue')\n",
    "#I don't like the default legend so I typically make mine like below, e.g.\n",
    "#with smaller fonts and a bit transparent so I do not cover up data, and make\n",
    "#it moveable by the viewer in case upper-right is a bad place for it \n",
    "leg = plt.legend(['Eigenvalues from SVD'], loc='best', borderpad=0.3, \n",
    "                 shadow=False, prop=matplotlib.font_manager.FontProperties(size='small'),\n",
    "                 markerscale=0.4)\n",
    "leg.get_frame().set_alpha(0.4)\n",
    "leg.draggable(state=True)\n",
    "plt.show()"
   ]
  },
  {
   "cell_type": "code",
   "execution_count": 9,
   "metadata": {},
   "outputs": [
    {
     "name": "stdout",
     "output_type": "stream",
     "text": [
      "[[-0.06341701  0.03432969 -0.06279095 ... -0.09708467  0.03501145\n",
      "  -0.14089125]\n",
      " [-0.06342069  0.06385673 -0.05920814 ...  0.14027991 -0.0440235\n",
      "  -0.03785947]\n",
      " [-0.06341915  0.05555015 -0.05250671 ... -0.07605447 -0.08184961\n",
      "   0.04343105]\n",
      " ...\n",
      " [-0.06314954 -0.08764804  0.09364506 ... -0.13090067 -0.03294406\n",
      "   0.01196499]\n",
      " [-0.06314686 -0.11204398  0.07470396 ...  0.01358557  0.19007864\n",
      "  -0.20293381]\n",
      " [-0.06315493 -0.11590776  0.03962675 ...  0.07006919 -0.16429674\n",
      "  -0.21785507]]\n"
     ]
    }
   ],
   "source": [
    "#choose r=1\n",
    "print(U)\n",
    "newU=U[:,0:1]"
   ]
  },
  {
   "cell_type": "code",
   "execution_count": 10,
   "metadata": {},
   "outputs": [
    {
     "name": "stdout",
     "output_type": "stream",
     "text": [
      "(250, 1)\n",
      "[[-0.06341701]\n",
      " [-0.06342069]\n",
      " [-0.06341915]\n",
      " [-0.06342058]\n",
      " [-0.06342311]\n",
      " [-0.06342483]\n",
      " [-0.06342881]\n",
      " [-0.06342305]\n",
      " [-0.06343081]\n",
      " [-0.06343   ]\n",
      " [-0.06342875]\n",
      " [-0.06343427]\n",
      " [-0.06343786]\n",
      " [-0.06341927]\n",
      " [-0.06341515]\n",
      " [-0.06339859]\n",
      " [-0.06340834]\n",
      " [-0.06339235]\n",
      " [-0.06338936]\n",
      " [-0.06339267]\n",
      " [-0.06338556]\n",
      " [-0.06337119]\n",
      " [-0.06337428]\n",
      " [-0.06336885]\n",
      " [-0.0633649 ]\n",
      " [-0.06336394]\n",
      " [-0.06337775]\n",
      " [-0.06337956]\n",
      " [-0.06338484]\n",
      " [-0.06339154]\n",
      " [-0.06339291]\n",
      " [-0.06339207]\n",
      " [-0.06340452]\n",
      " [-0.06340533]\n",
      " [-0.06339908]\n",
      " [-0.06340038]\n",
      " [-0.06339858]\n",
      " [-0.06339825]\n",
      " [-0.06339379]\n",
      " [-0.06337463]\n",
      " [-0.0633683 ]\n",
      " [-0.06337429]\n",
      " [-0.06337723]\n",
      " [-0.06337058]\n",
      " [-0.06336733]\n",
      " [-0.06336453]\n",
      " [-0.06336426]\n",
      " [-0.06335957]\n",
      " [-0.06336448]\n",
      " [-0.0633513 ]\n",
      " [-0.06334751]\n",
      " [-0.06334436]\n",
      " [-0.06335554]\n",
      " [-0.0633801 ]\n",
      " [-0.06338143]\n",
      " [-0.0633836 ]\n",
      " [-0.06338032]\n",
      " [-0.0633805 ]\n",
      " [-0.06337782]\n",
      " [-0.06337614]\n",
      " [-0.06337241]\n",
      " [-0.06336338]\n",
      " [-0.06337113]\n",
      " [-0.06336529]\n",
      " [-0.06336721]\n",
      " [-0.06336796]\n",
      " [-0.06336142]\n",
      " [-0.06337129]\n",
      " [-0.0633607 ]\n",
      " [-0.06336347]\n",
      " [-0.06336792]\n",
      " [-0.06337159]\n",
      " [-0.06337138]\n",
      " [-0.06336761]\n",
      " [-0.06335786]\n",
      " [-0.06335926]\n",
      " [-0.06336256]\n",
      " [-0.06335965]\n",
      " [-0.06335533]\n",
      " [-0.0633387 ]\n",
      " [-0.0633342 ]\n",
      " [-0.06333396]\n",
      " [-0.06333448]\n",
      " [-0.06333328]\n",
      " [-0.06333314]\n",
      " [-0.06332504]\n",
      " [-0.06331466]\n",
      " [-0.06330869]\n",
      " [-0.06330129]\n",
      " [-0.06330018]\n",
      " [-0.06329269]\n",
      " [-0.06328871]\n",
      " [-0.06329405]\n",
      " [-0.0632958 ]\n",
      " [-0.0633058 ]\n",
      " [-0.06329497]\n",
      " [-0.06329125]\n",
      " [-0.0632825 ]\n",
      " [-0.06328606]\n",
      " [-0.06328565]\n",
      " [-0.06327299]\n",
      " [-0.06326012]\n",
      " [-0.0632481 ]\n",
      " [-0.0632469 ]\n",
      " [-0.06324333]\n",
      " [-0.06323853]\n",
      " [-0.06323586]\n",
      " [-0.06323137]\n",
      " [-0.06321765]\n",
      " [-0.06322196]\n",
      " [-0.06322522]\n",
      " [-0.06322154]\n",
      " [-0.06323304]\n",
      " [-0.06323832]\n",
      " [-0.06323533]\n",
      " [-0.06323214]\n",
      " [-0.06322163]\n",
      " [-0.06322864]\n",
      " [-0.06323418]\n",
      " [-0.06321635]\n",
      " [-0.06321183]\n",
      " [-0.063218  ]\n",
      " [-0.06319346]\n",
      " [-0.06318353]\n",
      " [-0.06317794]\n",
      " [-0.06317342]\n",
      " [-0.06316932]\n",
      " [-0.06317024]\n",
      " [-0.06316752]\n",
      " [-0.0631593 ]\n",
      " [-0.06315453]\n",
      " [-0.06314447]\n",
      " [-0.06314894]\n",
      " [-0.0631434 ]\n",
      " [-0.063128  ]\n",
      " [-0.06312301]\n",
      " [-0.0631118 ]\n",
      " [-0.06310481]\n",
      " [-0.06311611]\n",
      " [-0.06311936]\n",
      " [-0.06311839]\n",
      " [-0.06312283]\n",
      " [-0.06312779]\n",
      " [-0.0631286 ]\n",
      " [-0.06313794]\n",
      " [-0.06313844]\n",
      " [-0.06313811]\n",
      " [-0.06313995]\n",
      " [-0.06314187]\n",
      " [-0.06314127]\n",
      " [-0.06312783]\n",
      " [-0.06312165]\n",
      " [-0.06312634]\n",
      " [-0.06312918]\n",
      " [-0.06313545]\n",
      " [-0.06312518]\n",
      " [-0.06312879]\n",
      " [-0.06313024]\n",
      " [-0.06312709]\n",
      " [-0.06312699]\n",
      " [-0.0631274 ]\n",
      " [-0.06314677]\n",
      " [-0.06314192]\n",
      " [-0.06313974]\n",
      " [-0.06313237]\n",
      " [-0.06312452]\n",
      " [-0.06311983]\n",
      " [-0.06311401]\n",
      " [-0.06311794]\n",
      " [-0.06311232]\n",
      " [-0.06311414]\n",
      " [-0.06312389]\n",
      " [-0.06312123]\n",
      " [-0.06313227]\n",
      " [-0.06313825]\n",
      " [-0.06314634]\n",
      " [-0.06316415]\n",
      " [-0.0631656 ]\n",
      " [-0.06316747]\n",
      " [-0.06317573]\n",
      " [-0.06317616]\n",
      " [-0.06318345]\n",
      " [-0.06318307]\n",
      " [-0.06319322]\n",
      " [-0.06320603]\n",
      " [-0.06320854]\n",
      " [-0.06321296]\n",
      " [-0.06321377]\n",
      " [-0.06319324]\n",
      " [-0.06320494]\n",
      " [-0.06319317]\n",
      " [-0.06318249]\n",
      " [-0.06317086]\n",
      " [-0.06317584]\n",
      " [-0.06318132]\n",
      " [-0.06318164]\n",
      " [-0.06318335]\n",
      " [-0.06318139]\n",
      " [-0.06316683]\n",
      " [-0.06316869]\n",
      " [-0.06316369]\n",
      " [-0.06315119]\n",
      " [-0.06314325]\n",
      " [-0.06313604]\n",
      " [-0.06314284]\n",
      " [-0.06314635]\n",
      " [-0.06313929]\n",
      " [-0.0631397 ]\n",
      " [-0.06314029]\n",
      " [-0.06314382]\n",
      " [-0.06315321]\n",
      " [-0.06315283]\n",
      " [-0.06316093]\n",
      " [-0.06316293]\n",
      " [-0.0631566 ]\n",
      " [-0.06314619]\n",
      " [-0.06313607]\n",
      " [-0.06313902]\n",
      " [-0.06312927]\n",
      " [-0.06312993]\n",
      " [-0.06311403]\n",
      " [-0.06312584]\n",
      " [-0.06312977]\n",
      " [-0.0631402 ]\n",
      " [-0.06314687]\n",
      " [-0.06314791]\n",
      " [-0.0631348 ]\n",
      " [-0.06314905]\n",
      " [-0.06315869]\n",
      " [-0.0631577 ]\n",
      " [-0.06316095]\n",
      " [-0.06315803]\n",
      " [-0.06315894]\n",
      " [-0.06315711]\n",
      " [-0.06316221]\n",
      " [-0.06315965]\n",
      " [-0.06316645]\n",
      " [-0.06316937]\n",
      " [-0.06317032]\n",
      " [-0.06317618]\n",
      " [-0.06316871]\n",
      " [-0.06317772]\n",
      " [-0.06318502]\n",
      " [-0.06317373]\n",
      " [-0.06316084]\n",
      " [-0.06315758]\n",
      " [-0.06315179]\n",
      " [-0.06314954]\n",
      " [-0.06314686]\n",
      " [-0.06315493]]\n",
      "[[0.00402172 0.00402195 0.00402185 ... 0.00400475 0.00400459 0.0040051 ]\n",
      " [0.00402195 0.00402218 0.00402209 ... 0.00400499 0.00400482 0.00400533]\n",
      " [0.00402185 0.00402209 0.00402199 ... 0.00400489 0.00400472 0.00400523]\n",
      " ...\n",
      " [0.00400475 0.00400499 0.00400489 ... 0.00398786 0.0039877  0.0039882 ]\n",
      " [0.00400459 0.00400482 0.00400472 ... 0.0039877  0.00398753 0.00398804]\n",
      " [0.0040051  0.00400533 0.00400523 ... 0.0039882  0.00398804 0.00398855]]\n"
     ]
    }
   ],
   "source": [
    "print(newU.shape)\n",
    "print(newU)\n",
    "print(np.dot(newU,newU.T))\n",
    "#print(nu)"
   ]
  },
  {
   "cell_type": "markdown",
   "metadata": {},
   "source": [
    "# find theta"
   ]
  },
  {
   "cell_type": "code",
   "execution_count": 11,
   "metadata": {},
   "outputs": [
    {
     "name": "stdout",
     "output_type": "stream",
     "text": [
      "4000\n",
      "(250, 3751)\n"
     ]
    }
   ],
   "source": [
    "n = 4000\n",
    "k = n-l+1\n",
    "X = np.zeros((l,k))\n",
    "sensorReadings = np.transpose(thresholdData)[columnIndex]\n",
    "thresholdSensorReadings = sensorReadings\n",
    "print(len(sensorReadings))\n",
    "print(X.shape)\n",
    "for i in range(l):\n",
    "    X[i]=sensorReadings[i:i+k]\n"
   ]
  },
  {
   "cell_type": "code",
   "execution_count": 12,
   "metadata": {
    "collapsed": true
   },
   "outputs": [],
   "source": [
    "meanX = np.mean(X,axis=1)"
   ]
  },
  {
   "cell_type": "code",
   "execution_count": 13,
   "metadata": {},
   "outputs": [
    {
     "name": "stdout",
     "output_type": "stream",
     "text": [
      "(250,)\n"
     ]
    }
   ],
   "source": [
    "print(meanX.shape)"
   ]
  },
  {
   "cell_type": "code",
   "execution_count": 14,
   "metadata": {},
   "outputs": [
    {
     "name": "stdout",
     "output_type": "stream",
     "text": [
      "[-790.94266939]\n"
     ]
    }
   ],
   "source": [
    "projectedCentre = np.dot(newU.T,meanX)\n",
    "print(projectedCentre)"
   ]
  },
  {
   "cell_type": "code",
   "execution_count": 15,
   "metadata": {
    "collapsed": true
   },
   "outputs": [],
   "source": [
    "departureScores=np.zeros((k,1))\n",
    "for i in range(k):\n",
    "    x_i=np.array([X[j][i] for j in range(l)])\n",
    "#     print(x_i.shape)\n",
    "    departureScores[i] = np.dot(projectedCentre - np.dot(newU.T,x_i),projectedCentre - np.dot(newU.T,x_i))\n",
    "    \n",
    "    "
   ]
  },
  {
   "cell_type": "code",
   "execution_count": 16,
   "metadata": {},
   "outputs": [
    {
     "name": "stdout",
     "output_type": "stream",
     "text": [
      "(3751, 1)\n"
     ]
    }
   ],
   "source": [
    "print(departureScores.shape)"
   ]
  },
  {
   "cell_type": "code",
   "execution_count": 17,
   "metadata": {},
   "outputs": [
    {
     "name": "stdout",
     "output_type": "stream",
     "text": [
      "[46.09818755]\n"
     ]
    }
   ],
   "source": [
    "print(max(departureScores))"
   ]
  },
  {
   "cell_type": "code",
   "execution_count": 18,
   "metadata": {
    "collapsed": true
   },
   "outputs": [],
   "source": [
    "threshold = max(departureScores)"
   ]
  },
  {
   "cell_type": "code",
   "execution_count": 19,
   "metadata": {},
   "outputs": [
    {
     "name": "stdout",
     "output_type": "stream",
     "text": [
      "800\n",
      "(250, 551)\n"
     ]
    }
   ],
   "source": [
    "n = 800\n",
    "k = n-l+1\n",
    "X = np.zeros((l,k))\n",
    "sensorReadings = np.transpose(test)[columnIndex]\n",
    "testSensorReadings = sensorReadings\n",
    "print(len(sensorReadings))\n",
    "print(X.shape)\n",
    "for i in range(l):\n",
    "    X[i] = sensorReadings[i:i+k]"
   ]
  },
  {
   "cell_type": "code",
   "execution_count": 20,
   "metadata": {},
   "outputs": [
    {
     "name": "stdout",
     "output_type": "stream",
     "text": [
      "(551, 1)\n"
     ]
    }
   ],
   "source": [
    "testDepartureScores = np.zeros((k,1))\n",
    "for i in range(k):\n",
    "    x_i = np.array([X[j][i] for j in range(l)])\n",
    "    testDepartureScores[i] = np.dot(projectedCentre - np.dot(newU.T,x_i), projectedCentre - np.dot(newU.T,x_i))\n",
    "print(testDepartureScores.shape)"
   ]
  },
  {
   "cell_type": "code",
   "execution_count": 21,
   "metadata": {},
   "outputs": [
    {
     "name": "stdout",
     "output_type": "stream",
     "text": [
      "(4302, 1)\n"
     ]
    }
   ],
   "source": [
    "augmentedDepartureScores = np.concatenate((departureScores, testDepartureScores))\n",
    "print(augmentedDepartureScores.shape)"
   ]
  },
  {
   "cell_type": "markdown",
   "metadata": {},
   "source": [
    "# Plot of departure scores"
   ]
  },
  {
   "cell_type": "code",
   "execution_count": 24,
   "metadata": {},
   "outputs": [
    {
     "data": {
      "image/png": "[encoded data removed]",
      "text/plain": [
       "<matplotlib.figure.Figure at 0x7f91f9cc5908>"
      ]
     },
     "metadata": {},
     "output_type": "display_data"
    }
   ],
   "source": [
    "plt.plot(augmentedDepartureScores , 'b-', linewidth=0.5, label='Departure score')\n",
    "locs, labels = plt.xticks()\n",
    "locs = [500,1000,1500,2000,2500,3000,3500,4000,4500,5000]\n",
    "xlabels = [locs[i]/100 for i in range(len(locs))]\n",
    "plt.xticks(locs, xlabels)\n",
    "plt.xlabel('Time(Hours)')\n",
    "plt.ylabel('Departure Score')\n",
    "plt.hlines(threshold, 0, augmentedDepartureScores.shape[0], linestyles='dashed', label='Threshold')\n",
    "plt.vlines(departureScores.shape[0], 0, max(testDepartureScores), linestyles='dashed', colors='red', label='Start of testing phase')\n",
    "plt.margins(x=0)\n",
    "plt.axvspan(departureScores.shape[0], augmentedDepartureScores.shape[0], alpha=0.5, color='red')\n",
    "plt.title('Departure score for XMEAS(15) in DA(1)')\n",
    "plt.legend()\n",
    "plt.show()"
   ]
  },
  {
   "cell_type": "markdown",
   "metadata": {},
   "source": [
    "# Plot of all readings for XMEAS(15) sensor"
   ]
  },
  {
   "cell_type": "code",
   "execution_count": 25,
   "metadata": {},
   "outputs": [
    {
     "data": {
      "image/png": "[encoded data removed]",
      "text/plain": [
       "<matplotlib.figure.Figure at 0x7f91f9cd5748>"
      ]
     },
     "metadata": {},
     "output_type": "display_data"
    }
   ],
   "source": [
    "sensorReadings = np.transpose(allData)[columnIndex]\n",
    "plt.plot(sensorReadings , 'r-', linewidth=0.5)\n",
    "locs, labels = plt.xticks()\n",
    "locs = [500,1000,1500,2000,2500,3000,3500,4000,4500,5000]\n",
    "xlabels = [locs[i]/100 for i in range(len(locs))]\n",
    "plt.xticks(locs, xlabels)\n",
    "plt.xlabel('Time(Hours)')\n",
    "plt.ylabel('XMEAS (15)')\n",
    "plt.title('Sensor readings for XMEAS(15) in DA(1)')\n",
    "plt.show()"
   ]
  },
  {
   "cell_type": "code",
   "execution_count": null,
   "metadata": {
    "collapsed": true
   },
   "outputs": [],
   "source": []
  }
 ],
 "metadata": {
  "kernelspec": {
   "display_name": "Python 3",
   "language": "python",
   "name": "python3"
  },
  "language_info": {
   "codemirror_mode": {
    "name": "ipython",
    "version": 3
   },
   "file_extension": ".py",
   "mimetype": "text/x-python",
   "name": "python",
   "nbconvert_exporter": "python",
   "pygments_lexer": "ipython3",
   "version": "3.6.5"
  }
 },
 "nbformat": 4,
 "nbformat_minor": 2
}
