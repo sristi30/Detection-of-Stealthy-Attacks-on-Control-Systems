{
 "cells": [
  {
   "cell_type": "code",
   "execution_count": 410,
   "metadata": {},
   "outputs": [],
   "source": [
    "import csv\n",
    "import matplotlib\n",
    "import matplotlib.pyplot as plt\n",
    "import numpy as np"
   ]
  },
  {
   "cell_type": "code",
   "execution_count": 411,
   "metadata": {},
   "outputs": [],
   "source": [
    "filename = \"data/1 - Scenario DA1/xmv10_359_data_1.csv\""
   ]
  },
  {
   "cell_type": "code",
   "execution_count": 412,
   "metadata": {
    "scrolled": true
   },
   "outputs": [
    {
     "name": "stdout",
     "output_type": "stream",
     "text": [
      "Total no. of rows: 4801\n",
      "41\n"
     ]
    }
   ],
   "source": [
    "rows=[]\n",
    "#fields = []\n",
    "with open(filename, 'r') as csvfile:\n",
    "    csvreader = csv.reader(csvfile) \n",
    "#     print(csvreader.line_num) \n",
    "    # extracting field names through first row \n",
    "    #fields = next(csvreader) \n",
    "#      extracting each data row one by one \n",
    "    for row in csvreader: \n",
    "        rows.append(row) \n",
    "  \n",
    "    # get total number of rows \n",
    "    print(\"Total no. of rows: %d\"%(csvreader.line_num)) \n",
    "# printing the field names \n",
    "print(len(rows[0]))\n",
    "# print('Field names are:' + ', '.join(field for field in fields)) \n",
    "  \n",
    "\n",
    "train1=np.array((500,41))\n",
    "train2=np.array((4000,41))\n",
    "test=np.array((800,41))\n",
    "train1=np.array(rows[:500])\n",
    "train2=np.array(rows[:4000])\n",
    "test=np.array(rows[4000:4800])    "
   ]
  },
  {
   "cell_type": "code",
   "execution_count": 413,
   "metadata": {},
   "outputs": [
    {
     "name": "stdout",
     "output_type": "stream",
     "text": [
      "(500, 41)\n",
      "(4000, 41)\n",
      "(800, 41)\n"
     ]
    }
   ],
   "source": [
    "print(train1.shape)\n",
    "print(train2.shape)\n",
    "print(test.shape)\n"
   ]
  },
  {
   "cell_type": "markdown",
   "metadata": {},
   "source": [
    "# 1 - Scenario DA1"
   ]
  },
  {
   "cell_type": "code",
   "execution_count": 414,
   "metadata": {},
   "outputs": [
    {
     "name": "stdout",
     "output_type": "stream",
     "text": [
      "500\n",
      "(250, 251)\n"
     ]
    }
   ],
   "source": [
    "n=500\n",
    "l=250\n",
    "k=n-l+1\n",
    "X=np.zeros((l,k))\n",
    "sensor_readings=np.transpose(train1)[14]\n",
    "print(len(sensor_readings))\n",
    "print(X.shape)\n",
    "for i in range(l):\n",
    "    X[i]=sensor_readings[i:i+k]"
   ]
  },
  {
   "cell_type": "code",
   "execution_count": 415,
   "metadata": {},
   "outputs": [
    {
     "name": "stdout",
     "output_type": "stream",
     "text": [
      "[[50.095 48.633 50.497 ... 48.753 49.897 49.146]\n",
      " [48.633 50.497 49.713 ... 49.897 49.146 50.826]\n",
      " [50.497 49.713 49.284 ... 49.146 50.826 48.316]\n",
      " ...\n",
      " [50.06  48.753 49.897 ... 49.038 49.876 50.375]\n",
      " [48.753 49.897 49.146 ... 49.876 50.375 49.533]\n",
      " [49.897 49.146 50.826 ... 50.375 49.533 50.351]]\n"
     ]
    }
   ],
   "source": [
    "print(X)\n",
    "#s = (np.array(X).astype(\"float\"))\n",
    "U, S, V  = np.linalg.svd(X, full_matrices=True)"
   ]
  },
  {
   "cell_type": "code",
   "execution_count": 416,
   "metadata": {},
   "outputs": [
    {
     "name": "stdout",
     "output_type": "stream",
     "text": [
      "(250, 250)\n",
      "(250,)\n"
     ]
    }
   ],
   "source": [
    "print(U.shape)\n",
    "print(S.shape)"
   ]
  },
  {
   "cell_type": "code",
   "execution_count": 417,
   "metadata": {
    "scrolled": false
   },
   "outputs": [
    {
     "data": {
      "image/png": "[encoded data removed]",
      "text/plain": [
       "<Figure size 576x360 with 1 Axes>"
      ]
     },
     "metadata": {},
     "output_type": "display_data"
    }
   ],
   "source": [
    "eigvals = S**2 / np.sum(S**2)  # NOTE (@amoeba): These are not PCA eigenvalues. \n",
    "                               # This question is about SVD.\n",
    "# print(len(eigvals))\n",
    "# print(eigvals[1]>eigvals[2])\n",
    "num_vars = 250\n",
    "num_obs = 250\n",
    "fig = plt.figure(figsize=(8,5))\n",
    "sing_vals = np.arange(num_vars) + 1\n",
    "plt.plot(sing_vals, eigvals, 'ro-', linewidth=2)\n",
    "plt.title('Scree Plot')\n",
    "plt.xlabel('Principal Component')\n",
    "plt.ylabel('Eigenvalue')\n",
    "#I don't like the default legend so I typically make mine like below, e.g.\n",
    "#with smaller fonts and a bit transparent so I do not cover up data, and make\n",
    "#it moveable by the viewer in case upper-right is a bad place for it \n",
    "leg = plt.legend(['Eigenvalues from SVD'], loc='best', borderpad=0.3, \n",
    "                 shadow=False, prop=matplotlib.font_manager.FontProperties(size='small'),\n",
    "                 markerscale=0.4)\n",
    "leg.get_frame().set_alpha(0.4)\n",
    "leg.draggable(state=True)\n",
    "plt.show()"
   ]
  },
  {
   "cell_type": "code",
   "execution_count": 418,
   "metadata": {},
   "outputs": [
    {
     "name": "stdout",
     "output_type": "stream",
     "text": [
      "[[-0.06341701  0.03432969 -0.06279095 ... -0.09708467  0.03501145\n",
      "  -0.14089125]\n",
      " [-0.06342069  0.06385673 -0.05920814 ...  0.14027991 -0.0440235\n",
      "  -0.03785947]\n",
      " [-0.06341915  0.05555015 -0.05250671 ... -0.07605447 -0.08184961\n",
      "   0.04343105]\n",
      " ...\n",
      " [-0.06314954 -0.08764804  0.09364506 ... -0.13090067 -0.03294406\n",
      "   0.01196499]\n",
      " [-0.06314686 -0.11204398  0.07470396 ...  0.01358557  0.19007864\n",
      "  -0.20293381]\n",
      " [-0.06315493 -0.11590776  0.03962675 ...  0.07006919 -0.16429674\n",
      "  -0.21785507]]\n"
     ]
    }
   ],
   "source": [
    "#choose r=1\n",
    "#newU = np.array(([U[i][0] for i in range(250)]))\n",
    "print(U)\n",
    "newU=U[:,0:1]"
   ]
  },
  {
   "cell_type": "code",
   "execution_count": 419,
   "metadata": {},
   "outputs": [
    {
     "name": "stdout",
     "output_type": "stream",
     "text": [
      "(250, 1)\n",
      "[[-0.06341701]\n",
      " [-0.06342069]\n",
      " [-0.06341915]\n",
      " [-0.06342058]\n",
      " [-0.06342311]\n",
      " [-0.06342483]\n",
      " [-0.06342881]\n",
      " [-0.06342305]\n",
      " [-0.06343081]\n",
      " [-0.06343   ]\n",
      " [-0.06342875]\n",
      " [-0.06343427]\n",
      " [-0.06343786]\n",
      " [-0.06341927]\n",
      " [-0.06341515]\n",
      " [-0.06339859]\n",
      " [-0.06340834]\n",
      " [-0.06339235]\n",
      " [-0.06338936]\n",
      " [-0.06339267]\n",
      " [-0.06338556]\n",
      " [-0.06337119]\n",
      " [-0.06337428]\n",
      " [-0.06336885]\n",
      " [-0.0633649 ]\n",
      " [-0.06336394]\n",
      " [-0.06337775]\n",
      " [-0.06337956]\n",
      " [-0.06338484]\n",
      " [-0.06339154]\n",
      " [-0.06339291]\n",
      " [-0.06339207]\n",
      " [-0.06340452]\n",
      " [-0.06340533]\n",
      " [-0.06339908]\n",
      " [-0.06340038]\n",
      " [-0.06339858]\n",
      " [-0.06339825]\n",
      " [-0.06339379]\n",
      " [-0.06337463]\n",
      " [-0.0633683 ]\n",
      " [-0.06337429]\n",
      " [-0.06337723]\n",
      " [-0.06337058]\n",
      " [-0.06336733]\n",
      " [-0.06336453]\n",
      " [-0.06336426]\n",
      " [-0.06335957]\n",
      " [-0.06336448]\n",
      " [-0.0633513 ]\n",
      " [-0.06334751]\n",
      " [-0.06334436]\n",
      " [-0.06335554]\n",
      " [-0.0633801 ]\n",
      " [-0.06338143]\n",
      " [-0.0633836 ]\n",
      " [-0.06338032]\n",
      " [-0.0633805 ]\n",
      " [-0.06337782]\n",
      " [-0.06337614]\n",
      " [-0.06337241]\n",
      " [-0.06336338]\n",
      " [-0.06337113]\n",
      " [-0.06336529]\n",
      " [-0.06336721]\n",
      " [-0.06336796]\n",
      " [-0.06336142]\n",
      " [-0.06337129]\n",
      " [-0.0633607 ]\n",
      " [-0.06336347]\n",
      " [-0.06336792]\n",
      " [-0.06337159]\n",
      " [-0.06337138]\n",
      " [-0.06336761]\n",
      " [-0.06335786]\n",
      " [-0.06335926]\n",
      " [-0.06336256]\n",
      " [-0.06335965]\n",
      " [-0.06335533]\n",
      " [-0.0633387 ]\n",
      " [-0.0633342 ]\n",
      " [-0.06333396]\n",
      " [-0.06333448]\n",
      " [-0.06333328]\n",
      " [-0.06333314]\n",
      " [-0.06332504]\n",
      " [-0.06331466]\n",
      " [-0.06330869]\n",
      " [-0.06330129]\n",
      " [-0.06330018]\n",
      " [-0.06329269]\n",
      " [-0.06328871]\n",
      " [-0.06329405]\n",
      " [-0.0632958 ]\n",
      " [-0.0633058 ]\n",
      " [-0.06329497]\n",
      " [-0.06329125]\n",
      " [-0.0632825 ]\n",
      " [-0.06328606]\n",
      " [-0.06328565]\n",
      " [-0.06327299]\n",
      " [-0.06326012]\n",
      " [-0.0632481 ]\n",
      " [-0.0632469 ]\n",
      " [-0.06324333]\n",
      " [-0.06323853]\n",
      " [-0.06323586]\n",
      " [-0.06323137]\n",
      " [-0.06321765]\n",
      " [-0.06322196]\n",
      " [-0.06322522]\n",
      " [-0.06322154]\n",
      " [-0.06323304]\n",
      " [-0.06323832]\n",
      " [-0.06323533]\n",
      " [-0.06323214]\n",
      " [-0.06322163]\n",
      " [-0.06322864]\n",
      " [-0.06323418]\n",
      " [-0.06321635]\n",
      " [-0.06321183]\n",
      " [-0.063218  ]\n",
      " [-0.06319346]\n",
      " [-0.06318353]\n",
      " [-0.06317794]\n",
      " [-0.06317342]\n",
      " [-0.06316932]\n",
      " [-0.06317024]\n",
      " [-0.06316752]\n",
      " [-0.0631593 ]\n",
      " [-0.06315453]\n",
      " [-0.06314447]\n",
      " [-0.06314894]\n",
      " [-0.0631434 ]\n",
      " [-0.063128  ]\n",
      " [-0.06312301]\n",
      " [-0.0631118 ]\n",
      " [-0.06310481]\n",
      " [-0.06311611]\n",
      " [-0.06311936]\n",
      " [-0.06311839]\n",
      " [-0.06312283]\n",
      " [-0.06312779]\n",
      " [-0.0631286 ]\n",
      " [-0.06313794]\n",
      " [-0.06313844]\n",
      " [-0.06313811]\n",
      " [-0.06313995]\n",
      " [-0.06314187]\n",
      " [-0.06314127]\n",
      " [-0.06312783]\n",
      " [-0.06312165]\n",
      " [-0.06312634]\n",
      " [-0.06312918]\n",
      " [-0.06313545]\n",
      " [-0.06312518]\n",
      " [-0.06312879]\n",
      " [-0.06313024]\n",
      " [-0.06312709]\n",
      " [-0.06312699]\n",
      " [-0.0631274 ]\n",
      " [-0.06314677]\n",
      " [-0.06314192]\n",
      " [-0.06313974]\n",
      " [-0.06313237]\n",
      " [-0.06312452]\n",
      " [-0.06311983]\n",
      " [-0.06311401]\n",
      " [-0.06311794]\n",
      " [-0.06311232]\n",
      " [-0.06311414]\n",
      " [-0.06312389]\n",
      " [-0.06312123]\n",
      " [-0.06313227]\n",
      " [-0.06313825]\n",
      " [-0.06314634]\n",
      " [-0.06316415]\n",
      " [-0.0631656 ]\n",
      " [-0.06316747]\n",
      " [-0.06317573]\n",
      " [-0.06317616]\n",
      " [-0.06318345]\n",
      " [-0.06318307]\n",
      " [-0.06319322]\n",
      " [-0.06320603]\n",
      " [-0.06320854]\n",
      " [-0.06321296]\n",
      " [-0.06321377]\n",
      " [-0.06319324]\n",
      " [-0.06320494]\n",
      " [-0.06319317]\n",
      " [-0.06318249]\n",
      " [-0.06317086]\n",
      " [-0.06317584]\n",
      " [-0.06318132]\n",
      " [-0.06318164]\n",
      " [-0.06318335]\n",
      " [-0.06318139]\n",
      " [-0.06316683]\n",
      " [-0.06316869]\n",
      " [-0.06316369]\n",
      " [-0.06315119]\n",
      " [-0.06314325]\n",
      " [-0.06313604]\n",
      " [-0.06314284]\n",
      " [-0.06314635]\n",
      " [-0.06313929]\n",
      " [-0.0631397 ]\n",
      " [-0.06314029]\n",
      " [-0.06314382]\n",
      " [-0.06315321]\n",
      " [-0.06315283]\n",
      " [-0.06316093]\n",
      " [-0.06316293]\n",
      " [-0.0631566 ]\n",
      " [-0.06314619]\n",
      " [-0.06313607]\n",
      " [-0.06313902]\n",
      " [-0.06312927]\n",
      " [-0.06312993]\n",
      " [-0.06311403]\n",
      " [-0.06312584]\n",
      " [-0.06312977]\n",
      " [-0.0631402 ]\n",
      " [-0.06314687]\n",
      " [-0.06314791]\n",
      " [-0.0631348 ]\n",
      " [-0.06314905]\n",
      " [-0.06315869]\n",
      " [-0.0631577 ]\n",
      " [-0.06316095]\n",
      " [-0.06315803]\n",
      " [-0.06315894]\n",
      " [-0.06315711]\n",
      " [-0.06316221]\n",
      " [-0.06315965]\n",
      " [-0.06316645]\n",
      " [-0.06316937]\n",
      " [-0.06317032]\n",
      " [-0.06317618]\n",
      " [-0.06316871]\n",
      " [-0.06317772]\n",
      " [-0.06318502]\n",
      " [-0.06317373]\n",
      " [-0.06316084]\n",
      " [-0.06315758]\n",
      " [-0.06315179]\n",
      " [-0.06314954]\n",
      " [-0.06314686]\n",
      " [-0.06315493]]\n",
      "[[0.00402172 0.00402195 0.00402185 ... 0.00400475 0.00400459 0.0040051 ]\n",
      " [0.00402195 0.00402218 0.00402209 ... 0.00400499 0.00400482 0.00400533]\n",
      " [0.00402185 0.00402209 0.00402199 ... 0.00400489 0.00400472 0.00400523]\n",
      " ...\n",
      " [0.00400475 0.00400499 0.00400489 ... 0.00398786 0.0039877  0.0039882 ]\n",
      " [0.00400459 0.00400482 0.00400472 ... 0.0039877  0.00398753 0.00398804]\n",
      " [0.0040051  0.00400533 0.00400523 ... 0.0039882  0.00398804 0.00398855]]\n"
     ]
    }
   ],
   "source": [
    "print(newU.shape)\n",
    "print(newU)\n",
    "print(np.dot(newU,newU.T))\n",
    "#print(nu)"
   ]
  },
  {
   "cell_type": "markdown",
   "metadata": {},
   "source": [
    "# find theta"
   ]
  },
  {
   "cell_type": "code",
   "execution_count": 420,
   "metadata": {},
   "outputs": [
    {
     "name": "stdout",
     "output_type": "stream",
     "text": [
      "4000\n",
      "(250, 3751)\n"
     ]
    }
   ],
   "source": [
    "n=4000\n",
    "k=n-l+1\n",
    "X=np.zeros((l,k))\n",
    "sensor_readings=np.transpose(train2)[14]\n",
    "print(len(sensor_readings))\n",
    "print(X.shape)\n",
    "for i in range(l):\n",
    "    X[i]=sensor_readings[i:i+k]\n"
   ]
  },
  {
   "cell_type": "code",
   "execution_count": 421,
   "metadata": {},
   "outputs": [],
   "source": [
    "meanX = np.mean(X,axis=1)"
   ]
  },
  {
   "cell_type": "code",
   "execution_count": 422,
   "metadata": {},
   "outputs": [
    {
     "data": {
      "text/plain": [
       "(250,)"
      ]
     },
     "execution_count": 422,
     "metadata": {},
     "output_type": "execute_result"
    }
   ],
   "source": [
    "meanX.shape"
   ]
  },
  {
   "cell_type": "code",
   "execution_count": 423,
   "metadata": {},
   "outputs": [
    {
     "name": "stdout",
     "output_type": "stream",
     "text": [
      "[-790.94266939]\n"
     ]
    }
   ],
   "source": [
    "proj_centre = np.dot(newU.T,meanX)\n",
    "print(proj_centre)"
   ]
  },
  {
   "cell_type": "code",
   "execution_count": 424,
   "metadata": {},
   "outputs": [],
   "source": [
    "departs=np.zeros((k,1))\n",
    "for i in range(k):\n",
    "    x_i=np.array([X[j][i] for j in range(l)])\n",
    "#     print(x_i.shape)\n",
    "    departs[i] = np.dot(proj_centre - np.dot(newU.T,x_i),proj_centre - np.dot(newU.T,x_i))\n",
    "    \n",
    "    "
   ]
  },
  {
   "cell_type": "code",
   "execution_count": 425,
   "metadata": {},
   "outputs": [
    {
     "name": "stdout",
     "output_type": "stream",
     "text": [
      "(3751, 1)\n"
     ]
    }
   ],
   "source": [
    "print(departs.shape)"
   ]
  },
  {
   "cell_type": "code",
   "execution_count": 426,
   "metadata": {},
   "outputs": [
    {
     "data": {
      "image/png": "[encoded data removed]",
      "text/plain": [
       "<Figure size 432x288 with 1 Axes>"
      ]
     },
     "metadata": {},
     "output_type": "display_data"
    }
   ],
   "source": [
    "plt.plot(departs , 'r-', linewidth=0.5)\n",
    "locs, labels = plt.xticks()\n",
    "locs=locs[1:]\n",
    "xlabels = [locs[i]/100 for i in range(len(locs))]\n",
    "plt.xticks(locs,xlabels)\n",
    "plt.show()"
   ]
  },
  {
   "cell_type": "code",
   "execution_count": 427,
   "metadata": {},
   "outputs": [
    {
     "name": "stdout",
     "output_type": "stream",
     "text": [
      "[46.09818755]\n"
     ]
    }
   ],
   "source": [
    "print(max(departs))"
   ]
  },
  {
   "cell_type": "code",
   "execution_count": 428,
   "metadata": {},
   "outputs": [],
   "source": [
    "threshold = max(departs)"
   ]
  },
  {
   "cell_type": "code",
   "execution_count": 429,
   "metadata": {},
   "outputs": [
    {
     "name": "stdout",
     "output_type": "stream",
     "text": [
      "800\n",
      "(250, 551)\n"
     ]
    }
   ],
   "source": [
    "n = 800\n",
    "k = n-l+1\n",
    "X=np.zeros((l,k))\n",
    "sensor_readings=np.transpose(test)[14]\n",
    "print(len(sensor_readings))\n",
    "print(X.shape)\n",
    "for i in range(l):\n",
    "    X[i]=sensor_readings[i:i+k]"
   ]
  },
  {
   "cell_type": "code",
   "execution_count": 430,
   "metadata": {},
   "outputs": [
    {
     "name": "stdout",
     "output_type": "stream",
     "text": [
      "(551, 1)\n"
     ]
    }
   ],
   "source": [
    "test_departs=np.zeros((k,1))\n",
    "for i in range(k):\n",
    "    x_i=np.array([X[j][i] for j in range(l)])\n",
    "#     print(x_i.shape)\n",
    "    test_departs[i] = np.dot(proj_centre - np.dot(newU.T,x_i),proj_centre - np.dot(newU.T,x_i))\n",
    "print(test_departs.shape)"
   ]
  },
  {
   "cell_type": "code",
   "execution_count": 431,
   "metadata": {},
   "outputs": [
    {
     "name": "stdout",
     "output_type": "stream",
     "text": [
      "(4302, 1)\n"
     ]
    }
   ],
   "source": [
    "train_test_departs = np.concatenate((departs, test_departs))\n",
    "print(train_test_departs.shape)"
   ]
  },
  {
   "cell_type": "code",
   "execution_count": 432,
   "metadata": {},
   "outputs": [
    {
     "data": {
      "image/png": "[encoded data removed]",
      "text/plain": [
       "<Figure size 432x288 with 1 Axes>"
      ]
     },
     "metadata": {},
     "output_type": "display_data"
    }
   ],
   "source": [
    "#train_test_departs = np.sqrt(train_test_departs)\n",
    "plt.plot(train_test_departs , 'b-', linewidth=0.5, label='Departure score')\n",
    "locs, labels = plt.xticks()\n",
    "locs=locs[1:]\n",
    "xlabels = [locs[i]/100 for i in range(len(locs))]\n",
    "plt.xticks(locs,xlabels)\n",
    "plt.xlabel('Time(Hours)')\n",
    "plt.ylabel('Departure Score')\n",
    "plt.hlines(threshold,0,train_test_departs.shape[0],linestyles='dashed', label='Threshold')\n",
    "plt.vlines(departs.shape[0],0,max(test_departs),linestyles='dashed',colors='red', label='Start of testing phase')\n",
    "# #plt.rcParams['axes.xmargin'] = 0\n",
    "#plt.margins(x=0)\n",
    "#plt.fill_between(where=y2 >= y1, facecolor='green', interpolate=True)\n",
    "plt.axvspan(departs.shape[0],train_test_departs.shape[0], alpha=0.5, color='red')\n",
    "plt.title('Departure score for XMEAS(15) in DA(1)')\n",
    "plt.legend()\n",
    "plt.show()"
   ]
  }
 ],
 "metadata": {
  "kernelspec": {
   "display_name": "Python 3",
   "language": "python",
   "name": "python3"
  },
  "language_info": {
   "codemirror_mode": {
    "name": "ipython",
    "version": 3
   },
   "file_extension": ".py",
   "mimetype": "text/x-python",
   "name": "python",
   "nbconvert_exporter": "python",
   "pygments_lexer": "ipython3",
   "version": "3.6.5"
  }
 },
 "nbformat": 4,
 "nbformat_minor": 2
}
