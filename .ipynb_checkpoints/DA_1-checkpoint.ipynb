{
 "cells": [
  {
   "cell_type": "code",
   "execution_count": 3,
   "metadata": {
    "collapsed": true
   },
   "outputs": [],
   "source": [
    "import csv\n",
    "import matplotlib\n",
    "import matplotlib.pyplot as plt\n",
    "import numpy as np"
   ]
  },
  {
   "cell_type": "code",
   "execution_count": 4,
   "metadata": {
    "collapsed": true
   },
   "outputs": [],
   "source": [
    "filename = \"data/1 - Scenario DA1/xmv10_359_data_1.csv\"\n",
    "columnIndex = 14"
   ]
  },
  {
   "cell_type": "code",
   "execution_count": 6,
   "metadata": {
    "scrolled": true
   },
   "outputs": [
    {
     "name": "stdout",
     "output_type": "stream",
     "text": [
      "Total no. of rows: 4801\n",
      "41\n"
     ]
    }
   ],
   "source": [
    "rows = []\n",
    "with open(filename, 'r') as csvfile:\n",
    "    csvreader = csv.reader(csvfile) \n",
    "    for row in csvreader: \n",
    "        rows.append(row) \n",
    "print(\"Total no. of rows: %d\"%(csvreader.line_num)) \n",
    "print(len(rows[0]))\n",
    "train = np.array((500, 41))\n",
    "thresholdData = np.array((3500, 41))\n",
    "test = np.array((800, 41))\n",
    "allData = np.array((4800,41))\n",
    "train = np.array(rows[:500])\n",
    "thresholdData = np.array(rows[500:4000])\n",
    "test = np.array(rows[4000:4800])    \n",
    "allData=np.array(rows[:-1])"
   ]
  },
  {
   "cell_type": "code",
   "execution_count": 7,
   "metadata": {},
   "outputs": [
    {
     "name": "stdout",
     "output_type": "stream",
     "text": [
      "(500, 41)\n",
      "(3500, 41)\n",
      "(800, 41)\n",
      "(4800, 41)\n"
     ]
    }
   ],
   "source": [
    "print(train.shape)\n",
    "print(thresholdData.shape)\n",
    "print(test.shape)\n",
    "print(allData.shape)"
   ]
  },
  {
   "cell_type": "markdown",
   "metadata": {},
   "source": [
    "# Training phase"
   ]
  },
  {
   "cell_type": "code",
   "execution_count": 8,
   "metadata": {},
   "outputs": [
    {
     "name": "stdout",
     "output_type": "stream",
     "text": [
      "(250, 251)\n"
     ]
    }
   ],
   "source": [
    "n = 500 \n",
    "l = 250\n",
    "k = n-l+1\n",
    "X = np.zeros((l,k))   # Trajectory matrix\n",
    "sensorReadings = np.transpose(train)[columnIndex] # taking first 500 sensor readings to get U\n",
    "trainSensorReadings = sensorReadings\n",
    "print(X.shape)\n",
    "for i in range(l):\n",
    "    X[i]=sensorReadings[i:i+k]"
   ]
  },
  {
   "cell_type": "code",
   "execution_count": 9,
   "metadata": {},
   "outputs": [
    {
     "name": "stdout",
     "output_type": "stream",
     "text": [
      "(250,)\n"
     ]
    }
   ],
   "source": [
    "meanX = np.mean(X,axis=1) \n",
    "print(meanX.shape)"
   ]
  },
  {
   "cell_type": "code",
   "execution_count": 10,
   "metadata": {},
   "outputs": [],
   "source": [
    "# SVD for trajectory matrix\n",
    "U, S, V  = np.linalg.svd(X, full_matrices=True)"
   ]
  },
  {
   "cell_type": "code",
   "execution_count": 11,
   "metadata": {
    "scrolled": true
   },
   "outputs": [
    {
     "name": "stdout",
     "output_type": "stream",
     "text": [
      "(250, 250)\n",
      "(250,)\n",
      "[1.25262154e+04 3.16870473e+01 3.15893297e+01 3.00905978e+01\n",
      " 2.99219702e+01 2.99082050e+01 2.96182003e+01 2.94716584e+01\n",
      " 2.93745645e+01 2.92461546e+01 2.92334808e+01 2.84825177e+01\n",
      " 2.82816517e+01 2.82713136e+01 2.81873381e+01 2.80343611e+01\n",
      " 2.79348102e+01 2.76441111e+01 2.73710896e+01 2.72387929e+01\n",
      " 2.70647946e+01 2.69539179e+01 2.60287208e+01 2.58740793e+01\n",
      " 2.57393723e+01 2.55517399e+01 2.54715798e+01 2.54083144e+01\n",
      " 2.52880940e+01 2.52354561e+01 2.50859263e+01 2.49558302e+01\n",
      " 2.47960296e+01 2.47469432e+01 2.46773915e+01 2.45437776e+01\n",
      " 2.43307213e+01 2.42580994e+01 2.42105518e+01 2.38158287e+01\n",
      " 2.33999154e+01 2.33864177e+01 2.33626467e+01 2.28432496e+01\n",
      " 2.28055330e+01 2.25836757e+01 2.23568094e+01 2.23058258e+01\n",
      " 2.22014642e+01 2.21444236e+01 2.21191779e+01 2.20543741e+01\n",
      " 2.20427246e+01 2.19970929e+01 2.19787599e+01 2.15064194e+01\n",
      " 2.14400913e+01 2.09977919e+01 2.07359895e+01 2.06251648e+01\n",
      " 2.06004455e+01 2.04497791e+01 2.02084892e+01 2.01599888e+01\n",
      " 2.00863523e+01 1.99930604e+01 1.99661750e+01 1.99294699e+01\n",
      " 1.97801915e+01 1.95697711e+01 1.95212648e+01 1.94496230e+01\n",
      " 1.92397851e+01 1.91509929e+01 1.91359389e+01 1.91179187e+01\n",
      " 1.90578698e+01 1.90449220e+01 1.90237525e+01 1.89762627e+01\n",
      " 1.89332159e+01 1.88987629e+01 1.87500631e+01 1.86903665e+01\n",
      " 1.86394108e+01 1.84663090e+01 1.84526176e+01 1.82638181e+01\n",
      " 1.82593724e+01 1.82269344e+01 1.81660045e+01 1.81039613e+01\n",
      " 1.80574732e+01 1.79291938e+01 1.78185600e+01 1.76085640e+01\n",
      " 1.73748416e+01 1.71754731e+01 1.70086085e+01 1.66067995e+01\n",
      " 1.65738879e+01 1.65086672e+01 1.63572192e+01 1.62111088e+01\n",
      " 1.61317237e+01 1.60060957e+01 1.59366586e+01 1.58418897e+01\n",
      " 1.56926924e+01 1.56310118e+01 1.56139124e+01 1.55436695e+01\n",
      " 1.54636414e+01 1.53976322e+01 1.53398300e+01 1.52615290e+01\n",
      " 1.51956746e+01 1.51252906e+01 1.50752041e+01 1.48482335e+01\n",
      " 1.48323785e+01 1.47075700e+01 1.46232525e+01 1.45695246e+01\n",
      " 1.45440829e+01 1.43204093e+01 1.42484706e+01 1.41487070e+01\n",
      " 1.40659075e+01 1.40475460e+01 1.38146052e+01 1.37936885e+01\n",
      " 1.37360731e+01 1.35801781e+01 1.34351782e+01 1.33098762e+01\n",
      " 1.32176932e+01 1.31964070e+01 1.31163900e+01 1.29158136e+01\n",
      " 1.28502838e+01 1.28388814e+01 1.28110480e+01 1.27744679e+01\n",
      " 1.25881590e+01 1.25022849e+01 1.24530420e+01 1.22230283e+01\n",
      " 1.21719456e+01 1.21535872e+01 1.19273904e+01 1.17895647e+01\n",
      " 1.16850280e+01 1.15359464e+01 1.14050632e+01 1.11167004e+01\n",
      " 1.10382893e+01 1.09051813e+01 1.08356131e+01 1.05492569e+01\n",
      " 1.04566727e+01 1.04176527e+01 1.04005025e+01 1.01926585e+01\n",
      " 1.01891108e+01 1.00996083e+01 1.00021236e+01 9.81222110e+00\n",
      " 9.73982482e+00 9.53992664e+00 9.44449238e+00 9.33521776e+00\n",
      " 9.32432955e+00 9.30170219e+00 9.24847104e+00 9.23665826e+00\n",
      " 9.04183330e+00 8.88937625e+00 8.85476007e+00 8.82509325e+00\n",
      " 8.65234717e+00 8.46371248e+00 8.35676125e+00 8.33856713e+00\n",
      " 8.00359080e+00 7.95858674e+00 7.90135455e+00 7.71256285e+00\n",
      " 7.62389833e+00 7.60590167e+00 7.52893928e+00 7.45581912e+00\n",
      " 7.33381526e+00 7.21374140e+00 7.04015960e+00 7.00191834e+00\n",
      " 6.94021270e+00 6.75062753e+00 6.72280896e+00 6.64207156e+00\n",
      " 6.51684933e+00 6.46589144e+00 6.32072776e+00 6.22542188e+00\n",
      " 6.19102277e+00 6.18299160e+00 6.14509980e+00 6.09391691e+00\n",
      " 5.93014360e+00 5.85630024e+00 5.66724764e+00 5.59175510e+00\n",
      " 5.53655673e+00 5.47693925e+00 5.45296675e+00 5.40094054e+00\n",
      " 5.35820792e+00 5.31762269e+00 5.07871632e+00 4.88783797e+00\n",
      " 4.69076553e+00 4.67373623e+00 4.58536689e+00 4.52908921e+00\n",
      " 4.35895198e+00 4.23182216e+00 4.04876860e+00 3.88773125e+00\n",
      " 3.79177158e+00 3.70875898e+00 3.54193552e+00 3.06615090e+00\n",
      " 2.95229401e+00 2.90749720e+00 2.70207618e+00 2.52825781e+00\n",
      " 2.50675709e+00 2.37309067e+00 2.18338116e+00 2.15709686e+00\n",
      " 2.04849863e+00 1.95791670e+00 1.71044121e+00 1.60431784e+00\n",
      " 1.46134865e+00 1.31979023e+00 1.28836545e+00 1.01400570e+00\n",
      " 8.80535394e-01 4.49299661e-01]\n"
     ]
    }
   ],
   "source": [
    "print(U.shape)\n",
    "print(S.shape)\n",
    "print(S)"
   ]
  },
  {
   "cell_type": "code",
   "execution_count": 13,
   "metadata": {},
   "outputs": [],
   "source": [
    "#choose r=1 \n",
    "newU = U[:,0:1]"
   ]
  },
  {
   "cell_type": "code",
   "execution_count": 14,
   "metadata": {},
   "outputs": [
    {
     "name": "stdout",
     "output_type": "stream",
     "text": [
      "(250, 1)\n"
     ]
    }
   ],
   "source": [
    "print(newU.shape)"
   ]
  },
  {
   "cell_type": "markdown",
   "metadata": {},
   "source": [
    "# Determining theta (threshold)"
   ]
  },
  {
   "cell_type": "code",
   "execution_count": 15,
   "metadata": {},
   "outputs": [
    {
     "name": "stdout",
     "output_type": "stream",
     "text": [
      "(250, 3251)\n"
     ]
    }
   ],
   "source": [
    "n = 3500\n",
    "k = n-l+1\n",
    "X = np.zeros((l,k))\n",
    "sensorReadings = np.transpose(thresholdData)[columnIndex]\n",
    "thresholdSensorReadings = sensorReadings\n",
    "# print(len(sensorReadings))\n",
    "print(X.shape)\n",
    "for i in range(l):\n",
    "    X[i]=sensorReadings[i:i+k]\n"
   ]
  },
  {
   "cell_type": "code",
   "execution_count": 16,
   "metadata": {},
   "outputs": [
    {
     "name": "stdout",
     "output_type": "stream",
     "text": [
      "[-790.64654973]\n"
     ]
    }
   ],
   "source": [
    "projectedCentre = np.dot(newU.T,meanX)  #finding projection for meanX\n",
    "print(projectedCentre)"
   ]
  },
  {
   "cell_type": "code",
   "execution_count": 17,
   "metadata": {},
   "outputs": [],
   "source": [
    "departureScores=np.zeros((k,1)) # departure scores for lag vectors\n",
    "for i in range(k):\n",
    "    x_i=np.array([X[j][i] for j in range(l)])\n",
    "    departureScores[i] = np.dot(projectedCentre - np.dot(newU.T,x_i),projectedCentre - np.dot(newU.T,x_i))"
   ]
  },
  {
   "cell_type": "code",
   "execution_count": 18,
   "metadata": {},
   "outputs": [
    {
     "name": "stdout",
     "output_type": "stream",
     "text": [
      "(3251, 1)\n"
     ]
    }
   ],
   "source": [
    "print(departureScores.shape)"
   ]
  },
  {
   "cell_type": "code",
   "execution_count": 19,
   "metadata": {},
   "outputs": [
    {
     "name": "stdout",
     "output_type": "stream",
     "text": [
      "[50.20692163]\n"
     ]
    }
   ],
   "source": [
    "print(max(departureScores))"
   ]
  },
  {
   "cell_type": "code",
   "execution_count": 20,
   "metadata": {
    "collapsed": true
   },
   "outputs": [],
   "source": [
    "threshold = max(departureScores) + 0.2 # setting threshold as max of departure score + small constant"
   ]
  },
  {
   "cell_type": "markdown",
   "metadata": {},
   "source": [
    "# Testing phase"
   ]
  },
  {
   "cell_type": "code",
   "execution_count": 21,
   "metadata": {},
   "outputs": [
    {
     "name": "stdout",
     "output_type": "stream",
     "text": [
      "800\n",
      "(250, 551)\n"
     ]
    }
   ],
   "source": [
    "n = 800\n",
    "k = n-l+1\n",
    "X = np.zeros((l,k))\n",
    "testSensorReadings = np.transpose(test)[columnIndex]\n",
    "print(len(testSensorReadings))\n",
    "print(X.shape)\n",
    "for i in range(l):\n",
    "    X[i] = testSensorReadings[i:i+k]"
   ]
  },
  {
   "cell_type": "code",
   "execution_count": 22,
   "metadata": {},
   "outputs": [
    {
     "name": "stdout",
     "output_type": "stream",
     "text": [
      "(551, 1)\n"
     ]
    }
   ],
   "source": [
    "testDepartureScores = np.zeros((k,1))\n",
    "for i in range(k):\n",
    "    x_i = np.array([X[j][i] for j in range(l)])\n",
    "    testDepartureScores[i] = np.dot(projectedCentre - np.dot(newU.T,x_i), projectedCentre - np.dot(newU.T,x_i))\n",
    "print(testDepartureScores.shape)"
   ]
  },
  {
   "cell_type": "markdown",
   "metadata": {},
   "source": [
    "# Plot of departure scores"
   ]
  },
  {
   "cell_type": "code",
   "execution_count": 28,
   "metadata": {},
   "outputs": [
    {
     "name": "stdout",
     "output_type": "stream",
     "text": [
      "(250, 4551)\n",
      "(4551, 1)\n"
     ]
    }
   ],
   "source": [
    "n = 4800\n",
    "k = n-l+1\n",
    "X = np.zeros((l,k))\n",
    "testSensorReadings = np.transpose(allData)[columnIndex]\n",
    "print(X.shape)\n",
    "for i in range(l):\n",
    "    X[i] = testSensorReadings[i:i+k]\n",
    "finalDepartureScores = np.zeros((k,1))\n",
    "for i in range(k):\n",
    "    x_i = np.array([X[j][i] for j in range(l)])\n",
    "    finalDepartureScores[i] = np.dot(projectedCentre - np.dot(newU.T,x_i), projectedCentre - np.dot(newU.T,x_i))\n",
    "print(finalDepartureScores.shape)"
   ]
  },
  {
   "cell_type": "code",
   "execution_count": 26,
   "metadata": {},
   "outputs": [
    {
     "data": {
      "image/png": "[encoded data removed]",
      "text/plain": [
       "<matplotlib.figure.Figure at 0x7f6af4052e48>"
      ]
     },
     "metadata": {},
     "output_type": "display_data"
    }
   ],
   "source": [
    "x=[i for i in range(250,4801)]\n",
    "fig = plt.figure(figsize=(15,5))\n",
    "plt.plot(x,finalDepartureScores , 'b-', linewidth=1, label='Departure score')\n",
    "locs = [500,1000,1500,2000,2500,3000,3500,4000,4500,5000]\n",
    "xlabels = [locs[i]/100 for i in range(len(locs))]\n",
    "plt.xticks(locs, xlabels)\n",
    "plt.xlabel('Time(Hours)')\n",
    "plt.ylabel('Departure Score')\n",
    "plt.margins(x=0)\n",
    "plt.hlines(threshold, 0, 5000, linestyles='dashed', label='Alarm Threshold')\n",
    "plt.vlines(4000, 0,max(testDepartureScores) , linestyles='dashed', colors='red', label='Start of testing phase')\n",
    "plt.axvspan(4000, 5000, alpha=0.5, color='red')\n",
    "plt.title('Departure score for XMEAS(15) in DA(1)')\n",
    "plt.legend()\n",
    "plt.show()"
   ]
  },
  {
   "cell_type": "markdown",
   "metadata": {},
   "source": [
    "# Plot of all readings for XMEAS(15) sensor"
   ]
  },
  {
   "cell_type": "code",
   "execution_count": 27,
   "metadata": {},
   "outputs": [
    {
     "data": {
      "image/png": "[encoded data removed]",
      "text/plain": [
       "<matplotlib.figure.Figure at 0x7f6af403e208>"
      ]
     },
     "metadata": {},
     "output_type": "display_data"
    }
   ],
   "source": [
    "x1 = [i for i in range(500)]\n",
    "x2 = [i for i in range(500,4000)]\n",
    "x3 = [i for i in range(4000,4800)]\n",
    "fig = plt.figure(figsize=(15,5))\n",
    "sensorReadings = np.transpose(allData)[columnIndex]\n",
    "plt.plot(x1, sensorReadings[:500], 'b-',label='Training')\n",
    "plt.plot(x2, sensorReadings[500:4000],'k-' , label = 'Threshold finding')\n",
    "plt.plot(x3, sensorReadings[4000:4800],'r-',label = 'Detection')\n",
    "locs = [500,1000,1500,2000,2500,3000,3500,4000,4500,5000]\n",
    "xlabels = [locs[i]/100 for i in range(len(locs))]\n",
    "plt.xticks(locs, xlabels)\n",
    "plt.xlabel('Time(Hours)')\n",
    "plt.ylabel('XMEAS (15)')\n",
    "plt.title('Sensor readings for XMEAS(15) in DA(1)')\n",
    "plt.legend()\n",
    "plt.show()"
   ]
  },
  {
   "cell_type": "code",
   "execution_count": null,
   "metadata": {
    "collapsed": true
   },
   "outputs": [],
   "source": []
  }
 ],
 "metadata": {
  "kernelspec": {
   "display_name": "Python 3",
   "language": "python",
   "name": "python3"
  },
  "language_info": {
   "codemirror_mode": {
    "name": "ipython",
    "version": 3
   },
   "file_extension": ".py",
   "mimetype": "text/x-python",
   "name": "python",
   "nbconvert_exporter": "python",
   "pygments_lexer": "ipython3",
   "version": "3.7.6"
  }
 },
 "nbformat": 4,
 "nbformat_minor": 2
}
